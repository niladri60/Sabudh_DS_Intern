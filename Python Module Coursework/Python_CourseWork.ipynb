{
  "cells": [
    {
      "cell_type": "markdown",
      "source": [
        "**Task 1.  LISTS**"
      ],
      "metadata": {
        "id": "09PArGgKHQ-6"
      }
    },
    {
      "cell_type": "markdown",
      "source": [
        "Q1. Write a Python program to multiply all the items in a list."
      ],
      "metadata": {
        "id": "-4X8hp-sHUL2"
      }
    },
    {
      "cell_type": "code",
      "execution_count": 1,
      "metadata": {
        "colab": {
          "base_uri": "https://localhost:8080/"
        },
        "id": "1LMKpHxYHNV3",
        "outputId": "f0a87300-0148-4bbb-a9ab-9ed22a51579e"
      },
      "outputs": [
        {
          "output_type": "stream",
          "name": "stdout",
          "text": [
            "The product of all the items in the list is: 210\n"
          ]
        }
      ],
      "source": [
        "def multiply_list_items(lst):\n",
        "    result = 1\n",
        "    for item in lst:\n",
        "        result *= item\n",
        "    return result\n",
        "\n",
        "numbers = [2, 3, 5, 7]\n",
        "product = multiply_list_items(numbers)\n",
        "print(f\"The product of all the items in the list is: {product}\")\n"
      ]
    },
    {
      "cell_type": "markdown",
      "source": [
        "Q2. Write a Python program to get the largest number from a list."
      ],
      "metadata": {
        "id": "OS1d3u78HfEM"
      }
    },
    {
      "cell_type": "code",
      "execution_count": 2,
      "metadata": {
        "colab": {
          "base_uri": "https://localhost:8080/"
        },
        "id": "5ZJzJqCzHNV6",
        "outputId": "478b2052-870c-46e0-e759-e0c98002dd97"
      },
      "outputs": [
        {
          "output_type": "stream",
          "name": "stdout",
          "text": [
            "The largest number in the list is: 98\n"
          ]
        }
      ],
      "source": [
        "def find_largest_number(lst):\n",
        "    if not lst:\n",
        "        return None  # Return None if the list is empty\n",
        "    largest = lst[0]\n",
        "    for num in lst:\n",
        "        if num > largest:\n",
        "            largest = num\n",
        "    return largest\n",
        "\n",
        "numbers = [10, 34, 67, 12, 98, 56]\n",
        "largest_number = find_largest_number(numbers)\n",
        "print(f\"The largest number in the list is: {largest_number}\")\n"
      ]
    },
    {
      "cell_type": "markdown",
      "source": [
        "Q3. Write a Python program to get the smallest number from a list."
      ],
      "metadata": {
        "id": "ISgQ_FHdHj-3"
      }
    },
    {
      "cell_type": "code",
      "execution_count": 4,
      "metadata": {
        "colab": {
          "base_uri": "https://localhost:8080/"
        },
        "id": "SrN7AZ_pHNV6",
        "outputId": "f35ba0d5-c031-4356-dffc-6d934be569a2"
      },
      "outputs": [
        {
          "output_type": "stream",
          "name": "stdout",
          "text": [
            "The smallest number in the list is: 10\n"
          ]
        }
      ],
      "source": [
        "def find_largest_number(lst):\n",
        "    if not lst:\n",
        "        return None  # Return None if the list is empty\n",
        "    smallest = lst[0]\n",
        "    for num in lst:\n",
        "        if num < smallest:\n",
        "            smallest = num\n",
        "    return smallest\n",
        "\n",
        "numbers = [10, 34, 67, 12, 98, 56]\n",
        "smallest_number = find_largest_number(numbers)\n",
        "print(f\"The smallest number in the list is: {smallest_number}\")\n"
      ]
    },
    {
      "cell_type": "markdown",
      "source": [
        "Q4. Write a Python program to get a list, sorted in increasing order by the last element in each tuple from a given list of non-empty tuples."
      ],
      "metadata": {
        "id": "i9sOYTCRHqcf"
      }
    },
    {
      "cell_type": "code",
      "execution_count": 5,
      "metadata": {
        "colab": {
          "base_uri": "https://localhost:8080/"
        },
        "id": "_ELayCnwHNV7",
        "outputId": "0a172840-47a4-4142-f240-2d6593ce7ec6"
      },
      "outputs": [
        {
          "output_type": "stream",
          "name": "stdout",
          "text": [
            "Sorted list of tuples: [(2, 1), (1, 2), (2, 3), (4, 4), (2, 5)]\n"
          ]
        }
      ],
      "source": [
        "def sort_by_last_element(tuples_list):\n",
        "    return sorted(tuples_list, key=lambda x: x[-1])\n",
        "\n",
        "tuples = [(2, 5), (1, 2), (4, 4), (2, 3), (2, 1)]\n",
        "sorted_tuples = sort_by_last_element(tuples)\n",
        "print(f\"Sorted list of tuples: {sorted_tuples}\")\n"
      ]
    },
    {
      "cell_type": "markdown",
      "source": [
        "Q5. Write a Python program to remove duplicates from a list."
      ],
      "metadata": {
        "id": "sdVgPv0DH15-"
      }
    },
    {
      "cell_type": "code",
      "execution_count": 6,
      "metadata": {
        "colab": {
          "base_uri": "https://localhost:8080/"
        },
        "id": "PmxnweMoHNV8",
        "outputId": "35ef1125-a043-4bc7-985c-bfff48d0e3c6"
      },
      "outputs": [
        {
          "output_type": "stream",
          "name": "stdout",
          "text": [
            "List after removing duplicates: [1, 2, 3, 4, 5, 6]\n"
          ]
        }
      ],
      "source": [
        "def remove_duplicates(lst):\n",
        "    return list(set(lst))\n",
        "\n",
        "numbers = [1, 2, 2, 3, 4, 4, 5, 6, 6]\n",
        "unique_numbers = remove_duplicates(numbers)\n",
        "print(f\"List after removing duplicates: {unique_numbers}\")\n"
      ]
    },
    {
      "cell_type": "markdown",
      "source": [
        "Q6. Write a Python program to check if a list is empty or not."
      ],
      "metadata": {
        "id": "tm-mkeQdH6FW"
      }
    },
    {
      "cell_type": "code",
      "execution_count": 7,
      "metadata": {
        "colab": {
          "base_uri": "https://localhost:8080/"
        },
        "id": "pc0VCu-7HNV8",
        "outputId": "987791e0-2610-4e16-d4dd-d3d3877fd684"
      },
      "outputs": [
        {
          "output_type": "stream",
          "name": "stdout",
          "text": [
            "The list is empty.\n"
          ]
        }
      ],
      "source": [
        "def is_list_empty(lst):\n",
        "    return len(lst) == 0\n",
        "\n",
        "my_list = []\n",
        "if is_list_empty(my_list):\n",
        "    print(\"The list is empty.\")\n",
        "else:\n",
        "    print(\"The list is not empty.\")\n"
      ]
    },
    {
      "cell_type": "markdown",
      "source": [
        "Q7. Write a Python program to count the lowercase letters in a given list of word"
      ],
      "metadata": {
        "id": "hXzJI58UH-Z9"
      }
    },
    {
      "cell_type": "code",
      "execution_count": 8,
      "metadata": {
        "colab": {
          "base_uri": "https://localhost:8080/"
        },
        "id": "oA6qjn_tHNV9",
        "outputId": "6a2916cc-207a-4cb9-e075-69bad106ff5a"
      },
      "outputs": [
        {
          "output_type": "stream",
          "name": "stdout",
          "text": [
            "Total number of lowercase letters: 12\n"
          ]
        }
      ],
      "source": [
        "def count_lowercase_letters(words_list):\n",
        "    count = 0\n",
        "    for word in words_list:\n",
        "        for char in word:\n",
        "            if char.islower():\n",
        "                count += 1\n",
        "    return count\n",
        "\n",
        "words = [\"Hello\", \"world\", \"PYTHON\", \"Code\"]\n",
        "lowercase_count = count_lowercase_letters(words)\n",
        "print(f\"Total number of lowercase letters: {lowercase_count}\")\n"
      ]
    },
    {
      "cell_type": "markdown",
      "source": [
        "Q8. Write a Python program to extract specified number of elements from a given list, which follows each other continuously.\n",
        "\n",
        "Original list:  [1, 1, 3, 4, 4, 5, 6, 7]"
      ],
      "metadata": {
        "id": "4QXTQTo4IFal"
      }
    },
    {
      "cell_type": "code",
      "execution_count": 9,
      "metadata": {
        "colab": {
          "base_uri": "https://localhost:8080/"
        },
        "id": "uPwwcbAgHNV9",
        "outputId": "3dc75295-287c-46ae-dd68-76da85ed8a2b"
      },
      "outputs": [
        {
          "output_type": "stream",
          "name": "stdout",
          "text": [
            "Extracted continuous elements: [[1, 1], [4, 4]]\n"
          ]
        }
      ],
      "source": [
        "def extract_continuous_elements(lst, n):\n",
        "    result = []\n",
        "    for i in range(len(lst) - n + 1):\n",
        "        # Check if the elements from index i to i+n are continuous\n",
        "        if all(lst[i+j] == lst[i] for j in range(n)):\n",
        "            result.append(lst[i:i+n])\n",
        "    return result\n",
        "\n",
        "original_list = [1, 1, 3, 4, 4, 5, 6, 7]\n",
        "n = 2\n",
        "extracted_elements = extract_continuous_elements(original_list, n)\n",
        "print(f\"Extracted continuous elements: {extracted_elements}\")\n"
      ]
    },
    {
      "cell_type": "markdown",
      "source": [
        "Q9. Extract 2 number of elements from the said list which follows each other continuously: [1, 4]\n",
        "\n",
        "Original list: [0, 1, 2, 3, 4, 4, 4, 4, 5, 7]"
      ],
      "metadata": {
        "id": "DWJoJQwaIZk-"
      }
    },
    {
      "cell_type": "code",
      "source": [
        "def extract_continuous_elements(lst, n):\n",
        "    result = []\n",
        "    for i in range(len(lst) - n + 1):\n",
        "        if lst[i:i+n] == [lst[i]] * n:\n",
        "            result.append(lst[i:i+n])\n",
        "    return result\n",
        "\n",
        "original_list = [0, 1, 2, 3, 4, 4, 4, 4, 5, 7]\n",
        "n = 2  # Number of continuous elements to extract\n",
        "extracted_elements = extract_continuous_elements(original_list, n)\n",
        "print(f\"Extracted continuous elements: {extracted_elements}\")\n"
      ],
      "metadata": {
        "colab": {
          "base_uri": "https://localhost:8080/"
        },
        "id": "9rvR69BkIe25",
        "outputId": "08719081-5a36-4e42-aa90-37f8f4532351"
      },
      "execution_count": 11,
      "outputs": [
        {
          "output_type": "stream",
          "name": "stdout",
          "text": [
            "Extracted continuous elements: [[4, 4], [4, 4], [4, 4]]\n"
          ]
        }
      ]
    },
    {
      "cell_type": "markdown",
      "source": [
        "Q10. Extract 4 number of elements from the said list which follows each other continuously: [4]"
      ],
      "metadata": {
        "id": "M_G2junYI8MY"
      }
    },
    {
      "cell_type": "code",
      "source": [
        "def extract_continuous_elements(lst, n):\n",
        "    result = []\n",
        "    for i in range(len(lst) - n + 1):\n",
        "        # Check if the elements from index i to i+n are the same\n",
        "        if lst[i:i+n] == [lst[i]] * n:\n",
        "            result.append(lst[i:i+n])\n",
        "    return result\n",
        "\n",
        "original_list = [0, 1, 2, 3, 4, 4, 4, 4, 5, 7]\n",
        "n = 4  # Number of continuous elements to extract\n",
        "extracted_elements = extract_continuous_elements(original_list, n)\n",
        "print(f\"Extracted continuous elements: {extracted_elements}\")\n"
      ],
      "metadata": {
        "colab": {
          "base_uri": "https://localhost:8080/"
        },
        "id": "xucSTzyKJMcf",
        "outputId": "a0cd7bc3-047e-4d39-c481-6d520c6839da"
      },
      "execution_count": 13,
      "outputs": [
        {
          "output_type": "stream",
          "name": "stdout",
          "text": [
            "Extracted continuous elements: [[4, 4, 4, 4]]\n"
          ]
        }
      ]
    },
    {
      "cell_type": "markdown",
      "source": [
        "Q11. Write a Python program to find the largest odd number in a given list of integers.\n",
        "\n",
        "Sample Data:  \n",
        "```\n",
        "([0, 9, 2, 4, 5, 6]) -> 9\n",
        "([-4, 0, 6, 1, 0, 2]) -> 1\n",
        "([1, 2, 3]) -> 3\n",
        "([-4, 0, 5, 1, 0, 1]) -> 5\n",
        "```"
      ],
      "metadata": {
        "id": "bxc9VeM9JaDv"
      }
    },
    {
      "cell_type": "code",
      "source": [
        "def find_largest_odd_number(lst):\n",
        "    odd_numbers = [num for num in lst if num % 2 != 0]\n",
        "\n",
        "    return max(odd_numbers, default=None)\n",
        "\n",
        "sample1 = [0, 9, 2, 4, 5, 6]\n",
        "sample2 = [-4, 0, 6, 1, 0, 2]\n",
        "sample3 = [1, 2, 3]\n",
        "sample4 = [-4, 0, 5, 1, 0, 1]\n",
        "\n",
        "\n",
        "print(f\"Largest odd number in {sample1}: {find_largest_odd_number(sample1)}\")\n",
        "print(f\"Largest odd number in {sample2}: {find_largest_odd_number(sample2)}\")\n",
        "print(f\"Largest odd number in {sample3}: {find_largest_odd_number(sample3)}\")\n",
        "print(f\"Largest odd number in {sample4}: {find_largest_odd_number(sample4)}\")\n"
      ],
      "metadata": {
        "colab": {
          "base_uri": "https://localhost:8080/"
        },
        "id": "hiyVZL1PJxJY",
        "outputId": "ee5a1033-a313-48c3-93bb-3f5c0ee44622"
      },
      "execution_count": 14,
      "outputs": [
        {
          "output_type": "stream",
          "name": "stdout",
          "text": [
            "Largest odd number in [0, 9, 2, 4, 5, 6]: 9\n",
            "Largest odd number in [-4, 0, 6, 1, 0, 2]: 1\n",
            "Largest odd number in [1, 2, 3]: 3\n",
            "Largest odd number in [-4, 0, 5, 1, 0, 1]: 5\n"
          ]
        }
      ]
    },
    {
      "cell_type": "markdown",
      "source": [
        "Q12. Write a Python program to print a specified list after removing the 0th, 4th and 5th elements.\n",
        "\n",
        "○ Sample List : [A, B, C, D, E, F]\n",
        "\n",
        "○ Expected Output : [A, B, F]"
      ],
      "metadata": {
        "id": "uRHdAcD4J2w7"
      }
    },
    {
      "cell_type": "code",
      "source": [
        "def remove_elements(lst, indices_to_remove):\n",
        "    return [item for idx, item in enumerate(lst) if idx not in indices_to_remove]\n",
        "\n",
        "sample_list = ['A', 'B', 'C', 'D', 'E', 'F']\n",
        "indices = [0, 4, 5]\n",
        "\n",
        "modified_list = remove_elements(sample_list, indices)\n",
        "print(f\"List after removing elements at indices {indices}: {modified_list}\")\n"
      ],
      "metadata": {
        "colab": {
          "base_uri": "https://localhost:8080/"
        },
        "id": "zuL72mJ0J8RP",
        "outputId": "8af036ae-56f0-4a48-a286-eb4bec20e73b"
      },
      "execution_count": 15,
      "outputs": [
        {
          "output_type": "stream",
          "name": "stdout",
          "text": [
            "List after removing elements at indices [0, 4, 5]: ['B', 'C', 'D']\n"
          ]
        }
      ]
    }
  ],
  "metadata": {
    "kernelspec": {
      "display_name": "Python 3",
      "language": "python",
      "name": "python3"
    },
    "language_info": {
      "codemirror_mode": {
        "name": "ipython",
        "version": 3
      },
      "file_extension": ".py",
      "mimetype": "text/x-python",
      "name": "python",
      "nbconvert_exporter": "python",
      "pygments_lexer": "ipython3",
      "version": "3.11.6"
    },
    "colab": {
      "provenance": []
    }
  },
  "nbformat": 4,
  "nbformat_minor": 0
}
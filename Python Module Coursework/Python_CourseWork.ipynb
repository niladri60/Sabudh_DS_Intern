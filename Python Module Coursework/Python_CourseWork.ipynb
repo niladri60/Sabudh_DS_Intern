{
  "cells": [
    {
      "cell_type": "markdown",
      "metadata": {
        "id": "09PArGgKHQ-6"
      },
      "source": [
        "# Task 1.  LISTS"
      ]
    },
    {
      "cell_type": "markdown",
      "metadata": {
        "id": "-4X8hp-sHUL2"
      },
      "source": [
        "Q1. Write a Python program to multiply all the items in a list."
      ]
    },
    {
      "cell_type": "code",
      "execution_count": 1,
      "metadata": {
        "colab": {
          "base_uri": "https://localhost:8080/"
        },
        "id": "1LMKpHxYHNV3",
        "outputId": "f0a87300-0148-4bbb-a9ab-9ed22a51579e"
      },
      "outputs": [
        {
          "name": "stdout",
          "output_type": "stream",
          "text": [
            "The product of all the items in the list is: 210\n"
          ]
        }
      ],
      "source": [
        "def multiply_list_items(lst):\n",
        "    result = 1\n",
        "    for item in lst:\n",
        "        result *= item\n",
        "    return result\n",
        "\n",
        "numbers = [2, 3, 5, 7]\n",
        "product = multiply_list_items(numbers)\n",
        "print(f\"The product of all the items in the list is: {product}\")\n"
      ]
    },
    {
      "cell_type": "markdown",
      "metadata": {
        "id": "OS1d3u78HfEM"
      },
      "source": [
        "Q2. Write a Python program to get the largest number from a list."
      ]
    },
    {
      "cell_type": "code",
      "execution_count": 2,
      "metadata": {
        "colab": {
          "base_uri": "https://localhost:8080/"
        },
        "id": "5ZJzJqCzHNV6",
        "outputId": "478b2052-870c-46e0-e759-e0c98002dd97"
      },
      "outputs": [
        {
          "name": "stdout",
          "output_type": "stream",
          "text": [
            "The largest number in the list is: 98\n"
          ]
        }
      ],
      "source": [
        "def find_largest_number(lst):\n",
        "    if not lst:\n",
        "        return None  # Return None if the list is empty\n",
        "    largest = lst[0]\n",
        "    for num in lst:\n",
        "        if num > largest:\n",
        "            largest = num\n",
        "    return largest\n",
        "\n",
        "numbers = [10, 34, 67, 12, 98, 56]\n",
        "largest_number = find_largest_number(numbers)\n",
        "print(f\"The largest number in the list is: {largest_number}\")\n"
      ]
    },
    {
      "cell_type": "markdown",
      "metadata": {
        "id": "ISgQ_FHdHj-3"
      },
      "source": [
        "Q3. Write a Python program to get the smallest number from a list."
      ]
    },
    {
      "cell_type": "code",
      "execution_count": 3,
      "metadata": {
        "colab": {
          "base_uri": "https://localhost:8080/"
        },
        "id": "SrN7AZ_pHNV6",
        "outputId": "f35ba0d5-c031-4356-dffc-6d934be569a2"
      },
      "outputs": [
        {
          "name": "stdout",
          "output_type": "stream",
          "text": [
            "The smallest number in the list is: 10\n"
          ]
        }
      ],
      "source": [
        "def find_largest_number(lst):\n",
        "    if not lst:\n",
        "        return None  # Return None if the list is empty\n",
        "    smallest = lst[0]\n",
        "    for num in lst:\n",
        "        if num < smallest:\n",
        "            smallest = num\n",
        "    return smallest\n",
        "\n",
        "numbers = [10, 34, 67, 12, 98, 56]\n",
        "smallest_number = find_largest_number(numbers)\n",
        "print(f\"The smallest number in the list is: {smallest_number}\")\n"
      ]
    },
    {
      "cell_type": "markdown",
      "metadata": {
        "id": "i9sOYTCRHqcf"
      },
      "source": [
        "Q4. Write a Python program to get a list, sorted in increasing order by the last element in each tuple from a given list of non-empty tuples."
      ]
    },
    {
      "cell_type": "code",
      "execution_count": 4,
      "metadata": {
        "colab": {
          "base_uri": "https://localhost:8080/"
        },
        "id": "_ELayCnwHNV7",
        "outputId": "0a172840-47a4-4142-f240-2d6593ce7ec6"
      },
      "outputs": [
        {
          "name": "stdout",
          "output_type": "stream",
          "text": [
            "Sorted list of tuples: [(2, 1), (1, 2), (2, 3), (4, 4), (2, 5)]\n"
          ]
        }
      ],
      "source": [
        "def sort_by_last_element(tuples_list):\n",
        "    return sorted(tuples_list, key=lambda x: x[-1])\n",
        "\n",
        "tuples = [(2, 5), (1, 2), (4, 4), (2, 3), (2, 1)]\n",
        "sorted_tuples = sort_by_last_element(tuples)\n",
        "print(f\"Sorted list of tuples: {sorted_tuples}\")\n"
      ]
    },
    {
      "cell_type": "markdown",
      "metadata": {
        "id": "sdVgPv0DH15-"
      },
      "source": [
        "Q5. Write a Python program to remove duplicates from a list."
      ]
    },
    {
      "cell_type": "code",
      "execution_count": 5,
      "metadata": {
        "colab": {
          "base_uri": "https://localhost:8080/"
        },
        "id": "PmxnweMoHNV8",
        "outputId": "35ef1125-a043-4bc7-985c-bfff48d0e3c6"
      },
      "outputs": [
        {
          "name": "stdout",
          "output_type": "stream",
          "text": [
            "List after removing duplicates: [1, 2, 3, 4, 5, 6]\n"
          ]
        }
      ],
      "source": [
        "def remove_duplicates(lst):\n",
        "    return list(set(lst))\n",
        "\n",
        "numbers = [1, 2, 2, 3, 4, 4, 5, 6, 6]\n",
        "unique_numbers = remove_duplicates(numbers)\n",
        "print(f\"List after removing duplicates: {unique_numbers}\")\n"
      ]
    },
    {
      "cell_type": "markdown",
      "metadata": {
        "id": "tm-mkeQdH6FW"
      },
      "source": [
        "Q6. Write a Python program to check if a list is empty or not."
      ]
    },
    {
      "cell_type": "code",
      "execution_count": 6,
      "metadata": {
        "colab": {
          "base_uri": "https://localhost:8080/"
        },
        "id": "pc0VCu-7HNV8",
        "outputId": "987791e0-2610-4e16-d4dd-d3d3877fd684"
      },
      "outputs": [
        {
          "name": "stdout",
          "output_type": "stream",
          "text": [
            "The list is empty.\n"
          ]
        }
      ],
      "source": [
        "def is_list_empty(lst):\n",
        "    return len(lst) == 0\n",
        "\n",
        "my_list = []\n",
        "if is_list_empty(my_list):\n",
        "    print(\"The list is empty.\")\n",
        "else:\n",
        "    print(\"The list is not empty.\")\n"
      ]
    },
    {
      "cell_type": "markdown",
      "metadata": {
        "id": "hXzJI58UH-Z9"
      },
      "source": [
        "Q7. Write a Python program to count the lowercase letters in a given list of word"
      ]
    },
    {
      "cell_type": "code",
      "execution_count": 7,
      "metadata": {
        "colab": {
          "base_uri": "https://localhost:8080/"
        },
        "id": "oA6qjn_tHNV9",
        "outputId": "6a2916cc-207a-4cb9-e075-69bad106ff5a"
      },
      "outputs": [
        {
          "name": "stdout",
          "output_type": "stream",
          "text": [
            "Total number of lowercase letters: 12\n"
          ]
        }
      ],
      "source": [
        "def count_lowercase_letters(words_list):\n",
        "    count = 0\n",
        "    for word in words_list:\n",
        "        for char in word:\n",
        "            if char.islower():\n",
        "                count += 1\n",
        "    return count\n",
        "\n",
        "words = [\"Hello\", \"world\", \"PYTHON\", \"Code\"]\n",
        "lowercase_count = count_lowercase_letters(words)\n",
        "print(f\"Total number of lowercase letters: {lowercase_count}\")\n"
      ]
    },
    {
      "cell_type": "markdown",
      "metadata": {
        "id": "4QXTQTo4IFal"
      },
      "source": [
        "Q8. Write a Python program to extract specified number of elements from a given list, which follows each other continuously.\n",
        "\n",
        "Original list:  [1, 1, 3, 4, 4, 5, 6, 7]"
      ]
    },
    {
      "cell_type": "code",
      "execution_count": 8,
      "metadata": {
        "colab": {
          "base_uri": "https://localhost:8080/"
        },
        "id": "uPwwcbAgHNV9",
        "outputId": "3dc75295-287c-46ae-dd68-76da85ed8a2b"
      },
      "outputs": [
        {
          "name": "stdout",
          "output_type": "stream",
          "text": [
            "Extracted continuous elements: [[1, 1], [4, 4]]\n"
          ]
        }
      ],
      "source": [
        "def extract_continuous_elements(lst, n):\n",
        "    result = []\n",
        "    for i in range(len(lst) - n + 1):\n",
        "        # Check if the elements from index i to i+n are continuous\n",
        "        if all(lst[i+j] == lst[i] for j in range(n)):\n",
        "            result.append(lst[i:i+n])\n",
        "    return result\n",
        "\n",
        "original_list = [1, 1, 3, 4, 4, 5, 6, 7]\n",
        "n = 2\n",
        "extracted_elements = extract_continuous_elements(original_list, n)\n",
        "print(f\"Extracted continuous elements: {extracted_elements}\")\n"
      ]
    },
    {
      "cell_type": "markdown",
      "metadata": {
        "id": "DWJoJQwaIZk-"
      },
      "source": [
        "Q9. Extract 2 number of elements from the said list which follows each other continuously: [1, 4]\n",
        "\n",
        "Original list: [0, 1, 2, 3, 4, 4, 4, 4, 5, 7]"
      ]
    },
    {
      "cell_type": "code",
      "execution_count": 9,
      "metadata": {
        "colab": {
          "base_uri": "https://localhost:8080/"
        },
        "id": "9rvR69BkIe25",
        "outputId": "08719081-5a36-4e42-aa90-37f8f4532351"
      },
      "outputs": [
        {
          "name": "stdout",
          "output_type": "stream",
          "text": [
            "Extracted continuous elements: [[4, 4], [4, 4], [4, 4]]\n"
          ]
        }
      ],
      "source": [
        "def extract_continuous_elements(lst, n):\n",
        "    result = []\n",
        "    for i in range(len(lst) - n + 1):\n",
        "        if lst[i:i+n] == [lst[i]] * n:\n",
        "            result.append(lst[i:i+n])\n",
        "    return result\n",
        "\n",
        "original_list = [0, 1, 2, 3, 4, 4, 4, 4, 5, 7]\n",
        "n = 2  # Number of continuous elements to extract\n",
        "extracted_elements = extract_continuous_elements(original_list, n)\n",
        "print(f\"Extracted continuous elements: {extracted_elements}\")\n"
      ]
    },
    {
      "cell_type": "markdown",
      "metadata": {
        "id": "M_G2junYI8MY"
      },
      "source": [
        "Q10. Extract 4 number of elements from the said list which follows each other continuously: [4]"
      ]
    },
    {
      "cell_type": "code",
      "execution_count": 10,
      "metadata": {
        "colab": {
          "base_uri": "https://localhost:8080/"
        },
        "id": "xucSTzyKJMcf",
        "outputId": "a0cd7bc3-047e-4d39-c481-6d520c6839da"
      },
      "outputs": [
        {
          "name": "stdout",
          "output_type": "stream",
          "text": [
            "Extracted continuous elements: [[4, 4, 4, 4]]\n"
          ]
        }
      ],
      "source": [
        "def extract_continuous_elements(lst, n):\n",
        "    result = []\n",
        "    for i in range(len(lst) - n + 1):\n",
        "        # Check if the elements from index i to i+n are the same\n",
        "        if lst[i:i+n] == [lst[i]] * n:\n",
        "            result.append(lst[i:i+n])\n",
        "    return result\n",
        "\n",
        "original_list = [0, 1, 2, 3, 4, 4, 4, 4, 5, 7]\n",
        "n = 4  # Number of continuous elements to extract\n",
        "extracted_elements = extract_continuous_elements(original_list, n)\n",
        "print(f\"Extracted continuous elements: {extracted_elements}\")\n"
      ]
    },
    {
      "cell_type": "markdown",
      "metadata": {
        "id": "bxc9VeM9JaDv"
      },
      "source": [
        "Q11. Write a Python program to find the largest odd number in a given list of integers.\n",
        "\n",
        "Sample Data:  \n",
        "```\n",
        "([0, 9, 2, 4, 5, 6]) -> 9\n",
        "([-4, 0, 6, 1, 0, 2]) -> 1\n",
        "([1, 2, 3]) -> 3\n",
        "([-4, 0, 5, 1, 0, 1]) -> 5\n",
        "```"
      ]
    },
    {
      "cell_type": "code",
      "execution_count": 11,
      "metadata": {
        "colab": {
          "base_uri": "https://localhost:8080/"
        },
        "id": "hiyVZL1PJxJY",
        "outputId": "ee5a1033-a313-48c3-93bb-3f5c0ee44622"
      },
      "outputs": [
        {
          "name": "stdout",
          "output_type": "stream",
          "text": [
            "Largest odd number in [0, 9, 2, 4, 5, 6]: 9\n",
            "Largest odd number in [-4, 0, 6, 1, 0, 2]: 1\n",
            "Largest odd number in [1, 2, 3]: 3\n",
            "Largest odd number in [-4, 0, 5, 1, 0, 1]: 5\n"
          ]
        }
      ],
      "source": [
        "def find_largest_odd_number(lst):\n",
        "    odd_numbers = [num for num in lst if num % 2 != 0]\n",
        "\n",
        "    return max(odd_numbers, default=None)\n",
        "\n",
        "sample1 = [0, 9, 2, 4, 5, 6]\n",
        "sample2 = [-4, 0, 6, 1, 0, 2]\n",
        "sample3 = [1, 2, 3]\n",
        "sample4 = [-4, 0, 5, 1, 0, 1]\n",
        "\n",
        "\n",
        "print(f\"Largest odd number in {sample1}: {find_largest_odd_number(sample1)}\")\n",
        "print(f\"Largest odd number in {sample2}: {find_largest_odd_number(sample2)}\")\n",
        "print(f\"Largest odd number in {sample3}: {find_largest_odd_number(sample3)}\")\n",
        "print(f\"Largest odd number in {sample4}: {find_largest_odd_number(sample4)}\")\n"
      ]
    },
    {
      "cell_type": "markdown",
      "metadata": {
        "id": "uRHdAcD4J2w7"
      },
      "source": [
        "Q12. Write a Python program to print a specified list after removing the 0th, 4th and 5th elements.\n",
        "\n",
        "○ Sample List : [A, B, C, D, E, F]\n",
        "\n",
        "○ Expected Output : [A, B, F]"
      ]
    },
    {
      "cell_type": "code",
      "execution_count": 12,
      "metadata": {
        "colab": {
          "base_uri": "https://localhost:8080/"
        },
        "id": "zuL72mJ0J8RP",
        "outputId": "8af036ae-56f0-4a48-a286-eb4bec20e73b"
      },
      "outputs": [
        {
          "name": "stdout",
          "output_type": "stream",
          "text": [
            "List after removing elements at indices [0, 4, 5]: ['B', 'C', 'D']\n"
          ]
        }
      ],
      "source": [
        "def remove_elements(lst, indices_to_remove):\n",
        "    return [item for idx, item in enumerate(lst) if idx not in indices_to_remove]\n",
        "\n",
        "sample_list = ['A', 'B', 'C', 'D', 'E', 'F']\n",
        "indices = [0, 4, 5]\n",
        "\n",
        "modified_list = remove_elements(sample_list, indices)\n",
        "print(f\"List after removing elements at indices {indices}: {modified_list}\")\n"
      ]
    },
    {
      "cell_type": "markdown",
      "metadata": {
        "id": "LHeEYPcHNg6P"
      },
      "source": [
        "# Task 2. TUPLES"
      ]
    },
    {
      "cell_type": "markdown",
      "metadata": {
        "id": "y_1yE4EvNxs5"
      },
      "source": [
        "Q1. Write a Python program to create a tuple with different data types."
      ]
    },
    {
      "cell_type": "code",
      "execution_count": 13,
      "metadata": {
        "colab": {
          "base_uri": "https://localhost:8080/"
        },
        "id": "CREMwxvEN2Bf",
        "outputId": "3e760177-db0e-43b3-a01b-d5d8a333fce5"
      },
      "outputs": [
        {
          "name": "stdout",
          "output_type": "stream",
          "text": [
            "Tuple with different data types: (42, 3.14, 'Hello', True, [1, 2, 3], {'key': 'value'}, None)\n"
          ]
        }
      ],
      "source": [
        "mixed_tuple = (42, 3.14, 'Hello', True, [1, 2, 3], {'key': 'value'}, None)\n",
        "\n",
        "print(\"Tuple with different data types:\", mixed_tuple)\n"
      ]
    },
    {
      "cell_type": "markdown",
      "metadata": {
        "id": "v_rB1ExjOlif"
      },
      "source": [
        "Q2. Write a Python program to create a tuple of numbers and print one item."
      ]
    },
    {
      "cell_type": "code",
      "execution_count": 14,
      "metadata": {
        "colab": {
          "base_uri": "https://localhost:8080/"
        },
        "id": "oXA-rC7MOvY6",
        "outputId": "e9cf8b2e-98cf-4115-a219-4add96a22318"
      },
      "outputs": [
        {
          "name": "stdout",
          "output_type": "stream",
          "text": [
            "Tuple of numbers: (10, 20, 30, 40, 50)\n",
            "30\n"
          ]
        }
      ],
      "source": [
        "numbers_tuple = (10, 20, 30, 40, 50)\n",
        "\n",
        "print(\"Tuple of numbers:\", numbers_tuple)\n",
        "print(numbers_tuple[2])\n"
      ]
    },
    {
      "cell_type": "markdown",
      "metadata": {
        "id": "ZOWZlV1XO2O2"
      },
      "source": [
        "Q3. Write a Python program to add an item to a tuple."
      ]
    },
    {
      "cell_type": "code",
      "execution_count": 15,
      "metadata": {
        "colab": {
          "base_uri": "https://localhost:8080/"
        },
        "id": "wG9gTBptO4HY",
        "outputId": "609728bb-7f2f-4e31-8433-b9589db45b40"
      },
      "outputs": [
        {
          "name": "stdout",
          "output_type": "stream",
          "text": [
            "(1, 2, 3, 4, 5)\n"
          ]
        }
      ],
      "source": [
        "original_tuple = (1, 2, 3, 4)\n",
        "item_to_add = 5\n",
        "\n",
        "temp_list = list(original_tuple)\n",
        "temp_list.append(item_to_add)\n",
        "\n",
        "new_tuple = tuple(temp_list)\n",
        "\n",
        "print(new_tuple)\n"
      ]
    },
    {
      "cell_type": "markdown",
      "metadata": {
        "id": "9mkGQQbobY_p"
      },
      "source": [
        "Q4. Write a Python program to get the 4th element from the last element of a Tuple."
      ]
    },
    {
      "cell_type": "code",
      "execution_count": 16,
      "metadata": {
        "colab": {
          "base_uri": "https://localhost:8080/"
        },
        "id": "HvRycvNxbhh1",
        "outputId": "55de40d8-01c2-4e80-8e8f-8d91f71ab766"
      },
      "outputs": [
        {
          "name": "stdout",
          "output_type": "stream",
          "text": [
            "40\n"
          ]
        }
      ],
      "source": [
        "# Sample tuple\n",
        "sample_tuple = (10, 20, 30, 40, 50, 60, 70)\n",
        "\n",
        "# Get the 4th element from the last element\n",
        "fourth_from_last = sample_tuple[-4]\n",
        "\n",
        "# Print the result\n",
        "print(fourth_from_last)\n"
      ]
    },
    {
      "cell_type": "markdown",
      "metadata": {
        "id": "Tm93cUNUboB6"
      },
      "source": [
        "Q5. Write a Python program to convert a tuple to a dictionary."
      ]
    },
    {
      "cell_type": "code",
      "execution_count": 17,
      "metadata": {
        "colab": {
          "base_uri": "https://localhost:8080/"
        },
        "id": "Yu_xKycSbqlb",
        "outputId": "5379329a-c95e-4dc6-acfa-8a4c56259438"
      },
      "outputs": [
        {
          "name": "stdout",
          "output_type": "stream",
          "text": [
            "{'key1': 'value1', 'key2': 'value2', 'key3': 'value3'}\n"
          ]
        }
      ],
      "source": [
        "# Sample tuple of key-value pairs\n",
        "tuple_data = (('key1', 'value1'), ('key2', 'value2'), ('key3', 'value3'))\n",
        "\n",
        "# Convert the tuple to a dictionary\n",
        "dictionary = dict(tuple_data)\n",
        "\n",
        "# Print the dictionary\n",
        "print(dictionary)\n"
      ]
    },
    {
      "cell_type": "markdown",
      "metadata": {
        "id": "QZGLJSmabxMR"
      },
      "source": [
        "Q6. Write a Python program to replace the last value of tuples in a list.\n",
        "```\n",
        "Sample list: [(10, 20, 40), (40, 50, 60), (70, 80, 90)]\n",
        "Expected Output: [(10, 20, 100), (40, 50, 100), (70, 80, 100)]\n",
        "```"
      ]
    },
    {
      "cell_type": "code",
      "execution_count": 18,
      "metadata": {
        "colab": {
          "base_uri": "https://localhost:8080/"
        },
        "id": "9ZDs4XpVb8oC",
        "outputId": "c93e97e4-4865-4bab-bb6d-4458e53c55c0"
      },
      "outputs": [
        {
          "name": "stdout",
          "output_type": "stream",
          "text": [
            "Sample list: [(10, 20, 40), (40, 50, 60), (70, 80, 90)]\n",
            "Output: [(10, 20, 100), (40, 50, 100), (70, 80, 100)]\n"
          ]
        }
      ],
      "source": [
        "# Sample list\n",
        "tuple_list = [(10, 20, 40), (40, 50, 60), (70, 80, 90)]\n",
        "print(\"Sample list:\", tuple_list)\n",
        "\n",
        "# Replace the last value of tuples\n",
        "updated_list = [t[:-1] + (100,) for t in tuple_list]\n",
        "\n",
        "print(\"Output:\", updated_list)\n"
      ]
    },
    {
      "cell_type": "markdown",
      "metadata": {
        "id": "FNtECGaAc_8F"
      },
      "source": [
        "# Task 3. DICTIONARY"
      ]
    },
    {
      "cell_type": "markdown",
      "metadata": {
        "id": "6urNKUQvdGFz"
      },
      "source": [
        "1.  Write a Python script to sort (ascending and descending) a dictionary by value."
      ]
    },
    {
      "cell_type": "code",
      "execution_count": 19,
      "metadata": {
        "colab": {
          "base_uri": "https://localhost:8080/"
        },
        "id": "B6R8xy6XdJsm",
        "outputId": "d0512172-940f-4f5b-ad0d-b1288ff73c8e"
      },
      "outputs": [
        {
          "name": "stdout",
          "output_type": "stream",
          "text": [
            "Ascending order: {'b': 1, 'c': 2, 'a': 3}\n",
            "Descending order: {'a': 3, 'c': 2, 'b': 1}\n"
          ]
        }
      ],
      "source": [
        "sample_dict = {'a': 3, 'b': 1, 'c': 2}\n",
        "\n",
        "sorted_asc = dict(sorted(sample_dict.items(), key=lambda item: item[1]))\n",
        "\n",
        "sorted_desc = dict(sorted(sample_dict.items(), key=lambda item: item[1], reverse=True))\n",
        "\n",
        "print(\"Ascending order:\", sorted_asc)\n",
        "print(\"Descending order:\", sorted_desc)\n"
      ]
    },
    {
      "cell_type": "markdown",
      "metadata": {
        "id": "0LfgUgxsdTQi"
      },
      "source": [
        "2. Write a Python program to iterate over dictionaries using for loops."
      ]
    },
    {
      "cell_type": "code",
      "execution_count": 20,
      "metadata": {
        "colab": {
          "base_uri": "https://localhost:8080/"
        },
        "id": "IY17ikpAdZFa",
        "outputId": "cd5c2527-55c6-474d-b70c-77a7478efa2a"
      },
      "outputs": [
        {
          "name": "stdout",
          "output_type": "stream",
          "text": [
            "Keys:\n",
            "a\n",
            "b\n",
            "c\n",
            "Values:\n",
            "1\n",
            "2\n",
            "3\n",
            "Key-Value Pairs:\n",
            "a: 1\n",
            "b: 2\n",
            "c: 3\n"
          ]
        }
      ],
      "source": [
        "sample_dict = {'a': 1, 'b': 2, 'c': 3}\n",
        "\n",
        "print(\"Keys:\")\n",
        "for key in sample_dict:\n",
        "    print(key)\n",
        "\n",
        "print(\"Values:\")\n",
        "for value in sample_dict.values():\n",
        "    print(value)\n",
        "\n",
        "print(\"Key-Value Pairs:\")\n",
        "for key, value in sample_dict.items():\n",
        "    print(f\"{key}: {value}\")\n"
      ]
    },
    {
      "cell_type": "markdown",
      "metadata": {
        "id": "QvB79Bh8depb"
      },
      "source": [
        "3. Write a Python script to merge two Python dictionaries."
      ]
    },
    {
      "cell_type": "code",
      "execution_count": 21,
      "metadata": {
        "colab": {
          "base_uri": "https://localhost:8080/"
        },
        "id": "aEXu0P1Cdio6",
        "outputId": "fef05d14-47f6-4256-c847-9eec16d71377"
      },
      "outputs": [
        {
          "name": "stdout",
          "output_type": "stream",
          "text": [
            "Merged dictionary: {'a': 1, 'b': 2, 'c': 3, 'd': 4}\n"
          ]
        }
      ],
      "source": [
        "# Sample dictionaries\n",
        "dict1 = {'a': 1, 'b': 2}\n",
        "dict2 = {'c': 3, 'd': 4}\n",
        "\n",
        "# Merge dictionaries\n",
        "merged_dict = {**dict1, **dict2}\n",
        "\n",
        "print(\"Merged dictionary:\", merged_dict)\n"
      ]
    },
    {
      "cell_type": "markdown",
      "metadata": {
        "id": "d4Z1JbpFdmWk"
      },
      "source": [
        "4. Write a Python program to sum all the items in a dictionary."
      ]
    },
    {
      "cell_type": "code",
      "execution_count": 22,
      "metadata": {
        "colab": {
          "base_uri": "https://localhost:8080/"
        },
        "id": "h0-YJgI_dqR6",
        "outputId": "f21d8d59-129c-423f-877b-a6e26062182f"
      },
      "outputs": [
        {
          "name": "stdout",
          "output_type": "stream",
          "text": [
            "Sum of all items in the dictionary: 60\n"
          ]
        }
      ],
      "source": [
        "sample_dict = {'a': 10, 'b': 20, 'c': 30}\n",
        "\n",
        "# Sum all the items in the dictionary\n",
        "total_sum = sum(sample_dict.values())\n",
        "\n",
        "print(\"Sum of all items in the dictionary:\", total_sum)"
      ]
    },
    {
      "cell_type": "markdown",
      "metadata": {
        "id": "LosScjP9dswC"
      },
      "source": [
        "5. Write a Python program to multiply all the items in a dictionary."
      ]
    },
    {
      "cell_type": "code",
      "execution_count": 23,
      "metadata": {
        "colab": {
          "base_uri": "https://localhost:8080/"
        },
        "id": "EFB9cdGxdwwC",
        "outputId": "1171c831-c6eb-4ede-c3ac-3e685dcdcd78"
      },
      "outputs": [
        {
          "name": "stdout",
          "output_type": "stream",
          "text": [
            "Product of all items in the dictionary: 24\n"
          ]
        }
      ],
      "source": [
        "import math\n",
        "\n",
        "sample_dict = {'a': 2, 'b': 3, 'c': 4}\n",
        "\n",
        "product = math.prod(sample_dict.values())\n",
        "\n",
        "print(\"Product of all items in the dictionary:\", product)\n"
      ]
    },
    {
      "cell_type": "markdown",
      "metadata": {
        "id": "BpPpAj4ad1pu"
      },
      "source": [
        "6. Write a Python program to sort a given dictionary by key."
      ]
    },
    {
      "cell_type": "code",
      "execution_count": 24,
      "metadata": {
        "colab": {
          "base_uri": "https://localhost:8080/"
        },
        "id": "qO5eLs2cd7E7",
        "outputId": "8c2d9828-714c-4562-b070-ca9ab924c17b"
      },
      "outputs": [
        {
          "name": "stdout",
          "output_type": "stream",
          "text": [
            "Dictionary sorted by key: {'a': 1, 'b': 2, 'c': 3}\n"
          ]
        }
      ],
      "source": [
        "sample_dict = {'b': 2, 'a': 1, 'c': 3}\n",
        "\n",
        "# Sort dictionary by key\n",
        "sorted_dict = dict(sorted(sample_dict.items()))\n",
        "\n",
        "print(\"Dictionary sorted by key:\", sorted_dict)"
      ]
    },
    {
      "cell_type": "markdown",
      "metadata": {
        "id": "Nj_Rt7oRd9r_"
      },
      "source": [
        "7. Write a Python program to remove duplicates from the dictionary.\n",
        "\n"
      ]
    },
    {
      "cell_type": "code",
      "execution_count": 25,
      "metadata": {
        "colab": {
          "base_uri": "https://localhost:8080/"
        },
        "id": "v538M8SleBda",
        "outputId": "1b600e1d-dbfa-4361-acdc-a664fe617c40"
      },
      "outputs": [
        {
          "name": "stdout",
          "output_type": "stream",
          "text": [
            "Dictionary with duplicates removed: {'a': 1, 'd': 3}\n"
          ]
        }
      ],
      "source": [
        "# Sample dictionary with duplicate values\n",
        "sample_dict = {'a': 1, 'b': 2, 'c': 2, 'd': 3}\n",
        "\n",
        "# Remove duplicates by converting values to a set\n",
        "unique_values_dict = dict((key, value) for key, value in sample_dict.items() if list(sample_dict.values()).count(value) == 1)\n",
        "\n",
        "print(\"Dictionary with duplicates removed:\", unique_values_dict)\n"
      ]
    },
    {
      "cell_type": "markdown",
      "metadata": {
        "id": "7r3e4QwMefhT"
      },
      "source": [
        "# Task 4. Numpy"
      ]
    },
    {
      "cell_type": "markdown",
      "metadata": {
        "id": "q5HqMtOtekSj"
      },
      "source": [
        "# 1: Numpy array creation and manipulation"
      ]
    },
    {
      "cell_type": "markdown",
      "metadata": {
        "id": "rfYP9QiChk2D"
      },
      "source": [
        "Create a 1D Numpy array “a” containing 10 random integers between 0 and 99."
      ]
    },
    {
      "cell_type": "code",
      "execution_count": 26,
      "metadata": {
        "colab": {
          "base_uri": "https://localhost:8080/"
        },
        "id": "bOFlklKBhpxm",
        "outputId": "475117d4-548e-4919-9c4e-eea72af16f1b"
      },
      "outputs": [
        {
          "name": "stdout",
          "output_type": "stream",
          "text": [
            "1D Numpy array with 10 random integers: [81 56 91 14 49 53 19 91 60 36]\n"
          ]
        }
      ],
      "source": [
        "import numpy as np\n",
        "\n",
        "a = np.random.randint(0, 100, size=10)\n",
        "\n",
        "print(\"1D Numpy array with 10 random integers:\", a)\n"
      ]
    },
    {
      "cell_type": "markdown",
      "metadata": {
        "id": "yoCscG5uht47"
      },
      "source": [
        "Create a 2D Numpy array “b” of shape (3, 4) containing random integers between -10 and 10."
      ]
    },
    {
      "cell_type": "code",
      "execution_count": 27,
      "metadata": {
        "colab": {
          "base_uri": "https://localhost:8080/"
        },
        "id": "QJ0WCn4vhxHl",
        "outputId": "7a9e813c-d4bd-4ece-f086-bff346e444c1"
      },
      "outputs": [
        {
          "name": "stdout",
          "output_type": "stream",
          "text": [
            "2D Numpy array with shape (3, 4) and random integers between -10 and 10:\n",
            "[[-8 -9 -2  6]\n",
            " [ 6  5 -8  8]\n",
            " [-8 -8 -5  6]]\n"
          ]
        }
      ],
      "source": [
        "import numpy as np\n",
        "\n",
        "b = np.random.randint(-10, 11, size=(3, 4))\n",
        "\n",
        "print(\"2D Numpy array with shape (3, 4) and random integers between -10 and 10:\")\n",
        "print(b)\n"
      ]
    },
    {
      "cell_type": "markdown",
      "metadata": {
        "id": "eFOMYXsyh1Z6"
      },
      "source": [
        "Reshape “b” into a 1D Numpy array “b_flat”."
      ]
    },
    {
      "cell_type": "code",
      "execution_count": 28,
      "metadata": {
        "colab": {
          "base_uri": "https://localhost:8080/"
        },
        "id": "4UNJ-njnh5F0",
        "outputId": "e68614c9-c7df-4082-cdc7-50314206b54e"
      },
      "outputs": [
        {
          "name": "stdout",
          "output_type": "stream",
          "text": [
            "Reshaped 1D Numpy array:\n",
            "[  7   1  -7   5   4   9   4   2   0 -10  -2   9]\n"
          ]
        }
      ],
      "source": [
        "import numpy as np\n",
        "\n",
        "b = np.random.randint(-10, 11, size=(3, 4))\n",
        "\n",
        "b_flat = b.reshape(-1)\n",
        "\n",
        "print(\"Reshaped 1D Numpy array:\")\n",
        "print(b_flat)\n"
      ]
    },
    {
      "cell_type": "markdown",
      "metadata": {
        "id": "tTO4uDpMh9J7"
      },
      "source": [
        "Create a copy of “a” called “a_copy”, and set the first element of “a_copy” to -1."
      ]
    },
    {
      "cell_type": "code",
      "execution_count": 29,
      "metadata": {
        "colab": {
          "base_uri": "https://localhost:8080/"
        },
        "id": "WoJijZyaiARr",
        "outputId": "8ea64773-0bf1-4561-f37b-4d2f1a96db09"
      },
      "outputs": [
        {
          "name": "stdout",
          "output_type": "stream",
          "text": [
            "Original array 'a': [60 85  1 20  7 27 23 16 34  7]\n",
            "Modified copy 'a_copy': [-1 85  1 20  7 27 23 16 34  7]\n"
          ]
        }
      ],
      "source": [
        "import numpy as np\n",
        "\n",
        "a = np.random.randint(0, 100, size=10)\n",
        "\n",
        "a_copy = a.copy()\n",
        "\n",
        "a_copy[0] = -1\n",
        "\n",
        "print(\"Original array 'a':\", a)\n",
        "print(\"Modified copy 'a_copy':\", a_copy)\n"
      ]
    },
    {
      "cell_type": "markdown",
      "metadata": {
        "id": "X82qVoR9iGBs"
      },
      "source": [
        "Create a 1D Numpy array “c” containing every second element of “a”."
      ]
    },
    {
      "cell_type": "code",
      "execution_count": 30,
      "metadata": {
        "colab": {
          "base_uri": "https://localhost:8080/"
        },
        "id": "dyOO3L0KiJeD",
        "outputId": "af20eeff-8905-4837-e4ad-1735d775d998"
      },
      "outputs": [
        {
          "name": "stdout",
          "output_type": "stream",
          "text": [
            "Original array 'a': [57 51  9 95 12 16 90 14 39 29]\n",
            "Array 'c' with every second element of 'a': [57  9 12 90 39]\n"
          ]
        }
      ],
      "source": [
        "import numpy as np\n",
        "\n",
        "a = np.random.randint(0, 100, size=10)\n",
        "c = a[::2]\n",
        "\n",
        "print(\"Original array 'a':\", a)\n",
        "print(\"Array 'c' with every second element of 'a':\", c)\n"
      ]
    },
    {
      "cell_type": "markdown",
      "metadata": {
        "id": "ypPFg07KiN-a"
      },
      "source": [
        "# 2: Numpy array indexing and slicing"
      ]
    },
    {
      "cell_type": "markdown",
      "metadata": {
        "id": "PpmlsDaYpYgN"
      },
      "source": [
        "Print the third element of “a”."
      ]
    },
    {
      "cell_type": "code",
      "execution_count": 31,
      "metadata": {
        "colab": {
          "base_uri": "https://localhost:8080/"
        },
        "id": "nZc4YYVFpa6e",
        "outputId": "a8c57f71-c8f5-4472-fd7d-11849812469a"
      },
      "outputs": [
        {
          "name": "stdout",
          "output_type": "stream",
          "text": [
            "Third element of 'a': 64\n"
          ]
        }
      ],
      "source": [
        "a = np.random.randint(0, 100, size=10)\n",
        "print(\"Third element of 'a':\", a[2])"
      ]
    },
    {
      "cell_type": "markdown",
      "metadata": {
        "id": "Hf9En9QVpjW-"
      },
      "source": [
        "Print the last element of “b”."
      ]
    },
    {
      "cell_type": "code",
      "execution_count": 32,
      "metadata": {
        "colab": {
          "base_uri": "https://localhost:8080/"
        },
        "id": "nw-1EQ1ZpnnX",
        "outputId": "b9bd1006-84b0-4a03-ca1e-d562911b784a"
      },
      "outputs": [
        {
          "name": "stdout",
          "output_type": "stream",
          "text": [
            "Last element of 'b': -5\n"
          ]
        }
      ],
      "source": [
        "b = np.random.randint(-10, 11, size=(3, 4))\n",
        "print(\"Last element of 'b':\", b[-1, -1])"
      ]
    },
    {
      "cell_type": "markdown",
      "metadata": {
        "id": "DeCo7CdopqaO"
      },
      "source": [
        "Print the first two rows and last two columns of “b”."
      ]
    },
    {
      "cell_type": "code",
      "execution_count": 33,
      "metadata": {
        "colab": {
          "base_uri": "https://localhost:8080/"
        },
        "id": "qI8LrFU-puGv",
        "outputId": "d6697e3d-62d6-49d2-9c87-98de3d4cdd3e"
      },
      "outputs": [
        {
          "name": "stdout",
          "output_type": "stream",
          "text": [
            "First two rows and last two columns of 'b':\n",
            "[[ 1 -6]\n",
            " [ 9  5]]\n"
          ]
        }
      ],
      "source": [
        "b = np.random.randint(-10, 11, size=(3, 4))\n",
        "\n",
        "print(\"First two rows and last two columns of 'b':\")\n",
        "print(b[:2, -2:])"
      ]
    },
    {
      "cell_type": "markdown",
      "metadata": {
        "id": "msxhrC1FpyS6"
      },
      "source": [
        "Assign the second row of “b” to a variable called “b_row”."
      ]
    },
    {
      "cell_type": "code",
      "execution_count": 34,
      "metadata": {
        "colab": {
          "base_uri": "https://localhost:8080/"
        },
        "id": "GowCDyTZp2md",
        "outputId": "cf867e05-4d31-4717-dfab-61e20810f507"
      },
      "outputs": [
        {
          "name": "stdout",
          "output_type": "stream",
          "text": [
            "Second row of 'b': [ 1  3 -6  9]\n"
          ]
        }
      ],
      "source": [
        "b = np.random.randint(-10, 11, size=(3, 4))\n",
        "b_row = b[1]\n",
        "print(\"Second row of 'b':\", b_row)"
      ]
    },
    {
      "cell_type": "markdown",
      "metadata": {
        "id": "99Ku6XD3p_BF"
      },
      "source": [
        "Assign the first column of “b” to a variable called “b_col”."
      ]
    },
    {
      "cell_type": "code",
      "execution_count": 35,
      "metadata": {
        "colab": {
          "base_uri": "https://localhost:8080/"
        },
        "id": "0kKhY7wiqAko",
        "outputId": "93351e84-12e6-40cc-d5b6-14b120bfe651"
      },
      "outputs": [
        {
          "name": "stdout",
          "output_type": "stream",
          "text": [
            "First column of 'b': [-2 -9 -6]\n"
          ]
        }
      ],
      "source": [
        "b = np.random.randint(-10, 11, size=(3, 4))\n",
        "b_col = b[:, 0]\n",
        "print(\"First column of 'b':\", b_col)"
      ]
    },
    {
      "cell_type": "markdown",
      "metadata": {
        "id": "dtjJh7iqqJNm"
      },
      "source": [
        "# 3: Numpy array operations"
      ]
    },
    {
      "cell_type": "markdown",
      "metadata": {
        "id": "UlhPExegqPQ-"
      },
      "source": [
        "Create a 1D Numpy array “d” containing the integers from 1 to 10."
      ]
    },
    {
      "cell_type": "code",
      "execution_count": 36,
      "metadata": {
        "colab": {
          "base_uri": "https://localhost:8080/"
        },
        "id": "6HHRZnRtqOF1",
        "outputId": "8c332652-10e2-43c8-db48-6d4693bb434f"
      },
      "outputs": [
        {
          "name": "stdout",
          "output_type": "stream",
          "text": [
            "1D Numpy array 'd' with integers from 1 to 10: [ 1  2  3  4  5  6  7  8  9 10]\n"
          ]
        }
      ],
      "source": [
        "d = np.arange(1, 11)\n",
        "\n",
        "print(\"1D Numpy array 'd' with integers from 1 to 10:\", d)"
      ]
    },
    {
      "cell_type": "markdown",
      "metadata": {
        "id": "PPvcbBi6q5en"
      },
      "source": [
        "Add “a” and “d” element-wise to create a new Numpy array “e”."
      ]
    },
    {
      "cell_type": "code",
      "execution_count": 37,
      "metadata": {
        "colab": {
          "base_uri": "https://localhost:8080/"
        },
        "id": "M793G5Llq7bZ",
        "outputId": "742a5d74-e8fb-482e-8ca7-c7d020542e7a"
      },
      "outputs": [
        {
          "name": "stdout",
          "output_type": "stream",
          "text": [
            "Array 'a': [ 7  3 65 20 32 52  3 16  3 77]\n",
            "Array 'd': [ 1  2  3  4  5  6  7  8  9 10]\n",
            "Element-wise sum 'e': [ 8  5 68 24 37 58 10 24 12 87]\n"
          ]
        }
      ],
      "source": [
        "a = np.random.randint(0, 100, size=10)\n",
        "\n",
        "d = np.arange(1, 11)\n",
        "\n",
        "e = a + d\n",
        "\n",
        "print(\"Array 'a':\", a)\n",
        "print(\"Array 'd':\", d)\n",
        "print(\"Element-wise sum 'e':\", e)"
      ]
    },
    {
      "cell_type": "markdown",
      "metadata": {
        "id": "dDDMIoberFPq"
      },
      "source": [
        "Multiply “b” by 2 to create a new Numpy array “b_double”."
      ]
    },
    {
      "cell_type": "code",
      "execution_count": 38,
      "metadata": {
        "colab": {
          "base_uri": "https://localhost:8080/"
        },
        "id": "X_3TJz2mrJqu",
        "outputId": "2b8f840f-3594-49d4-a939-434117381637"
      },
      "outputs": [
        {
          "name": "stdout",
          "output_type": "stream",
          "text": [
            "Original array 'b':\n",
            "[[ -7  -1  -5   6]\n",
            " [ -9   0   8 -10]\n",
            " [-10   6  -1  -2]]\n",
            "Array 'b_double' after multiplication by 2:\n",
            "[[-14  -2 -10  12]\n",
            " [-18   0  16 -20]\n",
            " [-20  12  -2  -4]]\n"
          ]
        }
      ],
      "source": [
        "b = np.random.randint(-10, 11, size=(3, 4))\n",
        "b_double = b * 2\n",
        "\n",
        "print(\"Original array 'b':\")\n",
        "print(b)\n",
        "print(\"Array 'b_double' after multiplication by 2:\")\n",
        "print(b_double)"
      ]
    },
    {
      "cell_type": "markdown",
      "metadata": {
        "id": "i90gxZ7xrNko"
      },
      "source": [
        "Calculate the dot product of “b” and “b_double” to create a new Numpy array “f”."
      ]
    },
    {
      "cell_type": "code",
      "execution_count": 39,
      "metadata": {
        "colab": {
          "base_uri": "https://localhost:8080/"
        },
        "id": "E3KJeg9krVdl",
        "outputId": "2605cba6-6986-4355-a71c-7bf68ba47b10"
      },
      "outputs": [
        {
          "name": "stdout",
          "output_type": "stream",
          "text": [
            "Original array 'b':\n",
            "[[ 9  4  2 -6]\n",
            " [ 7  6  8 -6]\n",
            " [ 5  9 -1 -7]]\n",
            "Array 'b_double':\n",
            "[[ 18   8   4 -12]\n",
            " [ 14  12  16 -12]\n",
            " [ 10  18  -2 -14]]\n",
            "Dot product 'f':\n",
            "[[274 278 242]\n",
            " [278 370 246]\n",
            " [242 246 312]]\n"
          ]
        }
      ],
      "source": [
        "b = np.random.randint(-10, 11, size=(3, 4))\n",
        "b_double = b * 2\n",
        "\n",
        "f = np.dot(b, b_double.T)\n",
        "\n",
        "print(\"Original array 'b':\")\n",
        "print(b)\n",
        "print(\"Array 'b_double':\")\n",
        "print(b_double)\n",
        "print(\"Dot product 'f':\")\n",
        "print(f)"
      ]
    },
    {
      "cell_type": "markdown",
      "metadata": {
        "id": "QhuMhF-PrdbQ"
      },
      "source": [
        "Calculate the mean of “a”,” b”, and “b_double” to create a new Numpy array “g”."
      ]
    },
    {
      "cell_type": "code",
      "execution_count": 40,
      "metadata": {
        "colab": {
          "base_uri": "https://localhost:8080/"
        },
        "id": "F2Ulrj7Arhw4",
        "outputId": "a59a95a3-aae5-4180-eadb-5c5484638ff7"
      },
      "outputs": [
        {
          "name": "stdout",
          "output_type": "stream",
          "text": [
            "Mean of 'a': 58.4\n",
            "Mean of 'b': 1.25\n",
            "Mean of 'b_double': 2.5\n",
            "Array 'g' with means: [58.4   1.25  2.5 ]\n"
          ]
        }
      ],
      "source": [
        "a = np.random.randint(0, 100, size=10)\n",
        "b = np.random.randint(-10, 11, size=(3, 4))\n",
        "\n",
        "b_double = b * 2\n",
        "mean_a = np.mean(a)\n",
        "mean_b = np.mean(b)\n",
        "mean_b_double = np.mean(b_double)\n",
        "\n",
        "g = np.array([mean_a, mean_b, mean_b_double])\n",
        "\n",
        "print(\"Mean of 'a':\", mean_a)\n",
        "print(\"Mean of 'b':\", mean_b)\n",
        "print(\"Mean of 'b_double':\", mean_b_double)\n",
        "print(\"Array 'g' with means:\", g)\n"
      ]
    },
    {
      "cell_type": "markdown",
      "metadata": {
        "id": "Dyhv9IlSrsG2"
      },
      "source": [
        "# 4: Numpy array aggregation"
      ]
    },
    {
      "cell_type": "markdown",
      "metadata": {
        "id": "Tpy-OyA3r7uo"
      },
      "source": [
        "Find the sum of every element in “a” and assign it to a variable “a_sum”."
      ]
    },
    {
      "cell_type": "code",
      "execution_count": 41,
      "metadata": {
        "colab": {
          "base_uri": "https://localhost:8080/"
        },
        "id": "i1DVLvtysUuT",
        "outputId": "c351f176-8248-43cc-8abf-0695d0764f28"
      },
      "outputs": [
        {
          "name": "stdout",
          "output_type": "stream",
          "text": [
            "Sum of all elements in 'a': 510\n"
          ]
        }
      ],
      "source": [
        "a = np.random.randint(0, 100, size=10)\n",
        "b = np.random.randint(-10, 11, size=(3, 4))\n",
        "b_double = b * 2\n",
        "a_sum = np.sum(a)\n",
        "print(\"Sum of all elements in 'a':\", a_sum)"
      ]
    },
    {
      "cell_type": "markdown",
      "metadata": {
        "id": "T004kEFkseL2"
      },
      "source": [
        "Find the minimum element in “b” and assign it to a variable “b_min”."
      ]
    },
    {
      "cell_type": "code",
      "execution_count": 42,
      "metadata": {
        "colab": {
          "base_uri": "https://localhost:8080/"
        },
        "id": "p_VBKYSTshft",
        "outputId": "eaa0e502-5086-4bd4-870a-732a1c0a0997"
      },
      "outputs": [
        {
          "name": "stdout",
          "output_type": "stream",
          "text": [
            "Minimum element in 'b': -9\n"
          ]
        }
      ],
      "source": [
        "a = np.random.randint(0, 100, size=10)\n",
        "b = np.random.randint(-10, 11, size=(3, 4))\n",
        "b_double = b * 2\n",
        "b_min = np.min(b)\n",
        "print(\"Minimum element in 'b':\", b_min)"
      ]
    },
    {
      "cell_type": "markdown",
      "metadata": {
        "id": "_8EqEJt5sntD"
      },
      "source": [
        "Find the maximum element in “b_double” and assign it to a variable “b_double_max”."
      ]
    },
    {
      "cell_type": "code",
      "execution_count": 43,
      "metadata": {
        "colab": {
          "base_uri": "https://localhost:8080/"
        },
        "id": "eV8V9xOVsq6O",
        "outputId": "b72f5a58-9f67-4689-9446-dd474be3797f"
      },
      "outputs": [
        {
          "name": "stdout",
          "output_type": "stream",
          "text": [
            "Maximum element in 'b_double': 14\n"
          ]
        }
      ],
      "source": [
        "a = np.random.randint(0, 100, size=10)\n",
        "b = np.random.randint(-10, 11, size=(3, 4))\n",
        "b_double = b * 2\n",
        "b_double_max = np.max(b_double)\n",
        "print(\"Maximum element in 'b_double':\", b_double_max)"
      ]
    },
    {
      "cell_type": "markdown",
      "metadata": {
        "id": "ALtOaaZes0ve"
      },
      "source": [
        "# Task 5 : Pandas"
      ]
    },
    {
      "cell_type": "code",
      "execution_count": 44,
      "metadata": {
        "id": "yMT218zZs5cL"
      },
      "outputs": [],
      "source": [
        "import pandas as pd"
      ]
    },
    {
      "cell_type": "code",
      "execution_count": 45,
      "metadata": {
        "id": "S4k2YpJiuayZ"
      },
      "outputs": [],
      "source": [
        "df = pd.read_csv('Sport car price.csv')"
      ]
    },
    {
      "cell_type": "markdown",
      "metadata": {
        "id": "GqQFAfonutR-"
      },
      "source": [
        "Load the dataset into a Pandas DataFrame and display the first 5 rows to get an idea of the data."
      ]
    },
    {
      "cell_type": "code",
      "execution_count": 46,
      "metadata": {
        "colab": {
          "base_uri": "https://localhost:8080/"
        },
        "id": "Ew2SHRN6uj6f",
        "outputId": "b7d3ca92-c728-4e57-b91a-e965e6008723"
      },
      "outputs": [
        {
          "name": "stdout",
          "output_type": "stream",
          "text": [
            "      Car Make Car Model  Year Engine Size (L) Horsepower Torque (lb-ft)  \\\n",
            "0      Porsche       911  2022               3        379            331   \n",
            "1  Lamborghini   Huracan  2021             5.2        630            443   \n",
            "2      Ferrari   488 GTB  2022             3.9        661            561   \n",
            "3         Audi        R8  2022             5.2        562            406   \n",
            "4      McLaren      720S  2021               4        710            568   \n",
            "\n",
            "  0-60 MPH Time (seconds) Price (in USD)  \n",
            "0                       4        101,200  \n",
            "1                     2.8        274,390  \n",
            "2                       3        333,750  \n",
            "3                     3.2        142,700  \n",
            "4                     2.7        298,000  \n"
          ]
        }
      ],
      "source": [
        "print(df.head())"
      ]
    },
    {
      "cell_type": "markdown",
      "metadata": {
        "id": "DWPtkYQ1uwxx"
      },
      "source": [
        "Use Pandas to clean the dataset by removing any missing or duplicate values, and converting any non-numeric data to numeric data where appropriate."
      ]
    },
    {
      "cell_type": "code",
      "execution_count": 47,
      "metadata": {
        "colab": {
          "base_uri": "https://localhost:8080/"
        },
        "id": "Xf-taRrcuy_Z",
        "outputId": "39eca8d1-5870-4ae5-edc8-77b193bb1eb9"
      },
      "outputs": [
        {
          "name": "stdout",
          "output_type": "stream",
          "text": [
            "      Car Make Car Model  Year Engine Size (L) Horsepower Torque (lb-ft)  \\\n",
            "0      Porsche       911  2022               3        379            331   \n",
            "1  Lamborghini   Huracan  2021             5.2        630            443   \n",
            "2      Ferrari   488 GTB  2022             3.9        661            561   \n",
            "3         Audi        R8  2022             5.2        562            406   \n",
            "4      McLaren      720S  2021               4        710            568   \n",
            "\n",
            "  0-60 MPH Time (seconds) Price (in USD)  \n",
            "0                       4        101,200  \n",
            "1                     2.8        274,390  \n",
            "2                       3        333,750  \n",
            "3                     3.2        142,700  \n",
            "4                     2.7        298,000  \n"
          ]
        },
        {
          "name": "stderr",
          "output_type": "stream",
          "text": [
            "C:\\Users\\NILADRI\\AppData\\Local\\Temp\\ipykernel_1304\\2679064745.py:4: FutureWarning: errors='ignore' is deprecated and will raise in a future version. Use to_numeric without passing `errors` and catch exceptions explicitly instead\n",
            "  df = df.apply(pd.to_numeric, errors='ignore')\n"
          ]
        }
      ],
      "source": [
        "df = df.drop_duplicates()\n",
        "\n",
        "df = df.dropna()\n",
        "df = df.apply(pd.to_numeric, errors='ignore')\n",
        "\n",
        "print(df.head())\n"
      ]
    },
    {
      "cell_type": "markdown",
      "metadata": {
        "id": "jrBGAfGYvM8Y"
      },
      "source": [
        "Use Pandas to explore the dataset by computing summary statistics for each column, such as mean, median, mode, standard deviation, and range."
      ]
    },
    {
      "cell_type": "code",
      "execution_count": 48,
      "metadata": {
        "colab": {
          "base_uri": "https://localhost:8080/"
        },
        "id": "DG1ZDGH7vOE3",
        "outputId": "d63708e4-8649-404f-e8ac-c1cfa2595e93"
      },
      "outputs": [
        {
          "name": "stdout",
          "output_type": "stream",
          "text": [
            "Summary statistics for each column:\n",
            "             Mean  Median  Mode  Standard Deviation  Range\n",
            "Year  2021.151344  2021.0  2021            2.347564     58\n"
          ]
        }
      ],
      "source": [
        "# Select only numeric columns\n",
        "numeric_df = df.select_dtypes(include='number')\n",
        "\n",
        "# Compute summary statistics for each numeric column\n",
        "summary_stats = {\n",
        "    'Mean': numeric_df.mean(),\n",
        "    'Median': numeric_df.median(),\n",
        "    'Mode': numeric_df.mode().iloc[0],\n",
        "    'Standard Deviation': numeric_df.std(),\n",
        "    'Range': numeric_df.max() - numeric_df.min()\n",
        "}\n",
        "\n",
        "# Convert the summary statistics to a DataFrame for better readability\n",
        "summary_df = pd.DataFrame(summary_stats)\n",
        "\n",
        "print(\"Summary statistics for each column:\")\n",
        "print(summary_df)\n"
      ]
    },
    {
      "cell_type": "markdown",
      "metadata": {
        "id": "5gGJ0jr1waN_"
      },
      "source": [
        "Use Pandas to group the dataset by car make and compute the average price for each make."
      ]
    },
    {
      "cell_type": "code",
      "execution_count": 49,
      "metadata": {
        "colab": {
          "base_uri": "https://localhost:8080/"
        },
        "id": "xawz4RD7wf6q",
        "outputId": "039f25e5-565a-4b68-dc12-ba231a15bda7"
      },
      "outputs": [
        {
          "name": "stdout",
          "output_type": "stream",
          "text": [
            "Average price for each car make:\n",
            "Car Make\n",
            "Acura            1.581650e+05\n",
            "Alfa Romeo       7.459967e+04\n",
            "Alpine           7.150000e+04\n",
            "Ariel            7.500000e+04\n",
            "Aston Martin     2.224352e+05\n",
            "Audi             9.135337e+04\n",
            "BMW              8.064097e+04\n",
            "Bentley          2.161760e+05\n",
            "Bugatti          3.386333e+06\n",
            "Chevrolet        5.465270e+04\n",
            "Dodge            7.166649e+04\n",
            "Ferrari          3.000600e+05\n",
            "Ford             2.328552e+05\n",
            "Jaguar           7.643810e+04\n",
            "Kia              5.220000e+04\n",
            "Koenigsegg       2.900000e+06\n",
            "Lamborghini      4.732617e+05\n",
            "Lexus            9.383333e+04\n",
            "Lotus            6.072589e+05\n",
            "Maserati         1.464203e+05\n",
            "Mazda            2.683000e+04\n",
            "McLaren          3.216477e+05\n",
            "Mercedes-AMG     1.538000e+05\n",
            "Mercedes-Benz    1.615324e+05\n",
            "Nissan           4.681161e+04\n",
            "Pagani           2.809091e+06\n",
            "Pininfarina      2.500000e+06\n",
            "Polestar         1.550000e+05\n",
            "Porsche          1.350485e+05\n",
            "Rimac            2.400000e+06\n",
            "Rolls-Royce      3.335944e+05\n",
            "Shelby           1.000000e+06\n",
            "Subaru           3.817000e+04\n",
            "TVR              1.405000e+05\n",
            "Tesla            1.632607e+05\n",
            "Toyota           4.306000e+04\n",
            "Ultima           2.200000e+05\n",
            "W Motors         2.216667e+06\n",
            "Name: Price (in USD), dtype: float64\n"
          ]
        }
      ],
      "source": [
        "df['Price (in USD)'] = df['Price (in USD)'].replace(',', '', regex=True).astype(float)\n",
        "\n",
        "# Group by car make and compute the average price for each make\n",
        "average_price_by_make = df.groupby('Car Make')['Price (in USD)'].mean()\n",
        "\n",
        "print(\"Average price for each car make:\")\n",
        "print(average_price_by_make)"
      ]
    },
    {
      "cell_type": "markdown",
      "metadata": {
        "id": "BML87PyExmeF"
      },
      "source": [
        "Use Pandas to group the dataset by year and compute the average horsepower for each year."
      ]
    },
    {
      "cell_type": "code",
      "execution_count": 50,
      "metadata": {
        "colab": {
          "base_uri": "https://localhost:8080/"
        },
        "id": "YXnT-yL4xuz5",
        "outputId": "7cde5a67-5f69-4da3-8549-1b7beb291810"
      },
      "outputs": [
        {
          "name": "stdout",
          "output_type": "stream",
          "text": [
            "Average Horsepower for each year:\n",
            "Year\n",
            "1965    435.000000\n",
            "2014    622.000000\n",
            "2015    660.400000\n",
            "2017    645.000000\n",
            "2019    615.333333\n",
            "2020    462.083333\n",
            "2021    628.527778\n",
            "2022    647.627376\n",
            "2023    512.500000\n",
            "Name: Horsepower, dtype: float64\n"
          ]
        }
      ],
      "source": [
        "df['Horsepower'] = pd.to_numeric(df['Horsepower'].replace(',', '', regex=True), errors='coerce')\n",
        "\n",
        "average_horsepower_by_year = df.groupby('Year')['Horsepower'].mean()\n",
        "\n",
        "print(\"Average Horsepower for each year:\")\n",
        "print(average_horsepower_by_year)"
      ]
    },
    {
      "cell_type": "markdown",
      "metadata": {
        "id": "mSPkMuEdx7EZ"
      },
      "source": [
        "Use Pandas to create a scatter plot of price versus horsepower, and add a linear regression line to the plot."
      ]
    },
    {
      "cell_type": "code",
      "execution_count": 51,
      "metadata": {
        "id": "LJczflUgyAv5"
      },
      "outputs": [],
      "source": [
        "import matplotlib.pyplot as plt\n",
        "import seaborn as sns"
      ]
    },
    {
      "cell_type": "code",
      "execution_count": 57,
      "metadata": {
        "colab": {
          "base_uri": "https://localhost:8080/",
          "height": 564
        },
        "id": "4uB4Q-TxyEc5",
        "outputId": "1786afe7-371e-464f-f694-616ecc6de6af"
      },
      "outputs": [
        {
          "data": {
            "image/png": "[encoded data removed]",
            "text/plain": [
              "<Figure size 400x400 with 1 Axes>"
            ]
          },
          "metadata": {},
          "output_type": "display_data"
        }
      ],
      "source": [
        "df['Price (in USD)'] = pd.to_numeric(df['Price (in USD)'].replace(',', '', regex=True), errors='coerce')\n",
        "df['Horsepower'] = pd.to_numeric(df['Horsepower'].replace(',', '', regex=True), errors='coerce')\n",
        "\n",
        "df = df.dropna(subset=['Price (in USD)', 'Horsepower'])\n",
        "\n",
        "plt.figure(figsize=(4, 4))\n",
        "sns.regplot(x='Horsepower', y='Price (in USD)', data=df, scatter_kws={'s':50}, line_kws={'color':'red'})\n",
        "plt.title('Scatter Plot of Price (in USD) vs. Horsepower with Linear Regression Line')\n",
        "plt.xlabel('Horsepower')\n",
        "plt.ylabel('Price (in USD)')\n",
        "plt.grid(True)\n",
        "plt.show()"
      ]
    },
    {
      "cell_type": "markdown",
      "metadata": {
        "id": "9tajTxR2ybPi"
      },
      "source": [
        "Use Pandas to create a histogram of the 0-60 MPH times in the dataset, with bins of size 0.5 seconds."
      ]
    },
    {
      "cell_type": "code",
      "execution_count": 59,
      "metadata": {
        "colab": {
          "base_uri": "https://localhost:8080/",
          "height": 688
        },
        "id": "k_Msb0zbyhRA",
        "outputId": "fd569f5c-7e9b-4d5d-d5ea-1cc9827c4487"
      },
      "outputs": [
        {
          "data": {
            "image/png": "[encoded data removed]",
            "text/plain": [
              "<Figure size 400x300 with 1 Axes>"
            ]
          },
          "metadata": {},
          "output_type": "display_data"
        }
      ],
      "source": [
        "df['0-60 MPH Time (seconds)'] = pd.to_numeric(df['0-60 MPH Time (seconds)'].replace(',', '', regex=True), errors='coerce')\n",
        "\n",
        "df = df.dropna(subset=['0-60 MPH Time (seconds)'])\n",
        "\n",
        "plt.figure(figsize=(4, 3))\n",
        "plt.hist(df['0-60 MPH Time (seconds)'], bins=range(int(df['0-60 MPH Time (seconds)'].min()), int(df['0-60 MPH Time (seconds)'].max()) + 1, 1), edgecolor='black')\n",
        "plt.title('Histogram of 0-60 MPH Time (seconds)')\n",
        "plt.xlabel('0-60 MPH Time (seconds)')\n",
        "plt.ylabel('Frequency')\n",
        "plt.grid(True)\n",
        "plt.show()\n"
      ]
    },
    {
      "cell_type": "markdown",
      "metadata": {
        "id": "0A8kOJHMy6lw"
      },
      "source": [
        "Use Pandas to filter the dataset to only include cars with a price greater than $500,000, and then sort the resulting dataset by horsepower in descending order."
      ]
    },
    {
      "cell_type": "code",
      "execution_count": 54,
      "metadata": {
        "colab": {
          "base_uri": "https://localhost:8080/"
        },
        "id": "Zo5vUjh6zBwH",
        "outputId": "bf547587-2a4e-42ec-bd4d-e761bb3d60f9"
      },
      "outputs": [
        {
          "name": "stdout",
          "output_type": "stream",
          "text": [
            "Filtered and sorted dataset:\n",
            "         Car Make  Car Model  Year Engine Size (L)  Horsepower Torque (lb-ft)  \\\n",
            "877         Lotus      Evija  2021        Electric      2000.0           1254   \n",
            "420         Lotus      Evija  2022        Electric      1973.0           1254   \n",
            "987         Lotus      Evija  2022        Electric      1973.0           1254   \n",
            "523         Lotus      Evija  2022        Electric      1973.0           1254   \n",
            "1003        Lotus      Evija  2021  Electric Motor      1972.0           1254   \n",
            "...           ...        ...   ...             ...         ...            ...   \n",
            "318        Pagani     Huayra  2021               6       730.0            738   \n",
            "194   Lamborghini  Aventador  2021             6.5       730.0            509   \n",
            "166        Pagani     Huayra  2020               6       720.0            738   \n",
            "24         Pagani     Huayra  2021               6       720.0            737   \n",
            "170        Shelby      Cobra  1965               7       435.0            440   \n",
            "\n",
            "      0-60 MPH Time (seconds)  Price (in USD)  \n",
            "877                       2.8       2800000.0  \n",
            "420                       2.5       2750000.0  \n",
            "987                       2.5       2000000.0  \n",
            "523                       2.5       2600000.0  \n",
            "1003                      2.0       2000000.0  \n",
            "...                       ...             ...  \n",
            "318                       3.0       2600000.0  \n",
            "194                       2.9        517700.0  \n",
            "166                       3.0       2700000.0  \n",
            "24                        2.8       2800000.0  \n",
            "170                       4.2       1000000.0  \n",
            "\n",
            "[80 rows x 8 columns]\n"
          ]
        }
      ],
      "source": [
        "df['Price (in USD)'] = pd.to_numeric(df['Price (in USD)'].replace(',', '', regex=True), errors='coerce')\n",
        "df['Horsepower'] = pd.to_numeric(df['Horsepower'].replace(',', '', regex=True), errors='coerce')\n",
        "\n",
        "# Filter the dataset to include only cars with a Price (in USD) greater than $500,000\n",
        "filtered_df = df[df['Price (in USD)'] > 500000]\n",
        "\n",
        "# Sort the filtered dataset by 'Horsepower' in descending order\n",
        "sorted_df = filtered_df.sort_values(by='Horsepower', ascending=False)\n",
        "\n",
        "print(\"Filtered and sorted dataset:\")\n",
        "print(sorted_df)"
      ]
    },
    {
      "cell_type": "markdown",
      "metadata": {
        "id": "16E2iadwzNp6"
      },
      "source": [
        "Use Pandas to export the cleaned and transformed dataset to a new CSV file."
      ]
    },
    {
      "cell_type": "code",
      "execution_count": 55,
      "metadata": {
        "colab": {
          "base_uri": "https://localhost:8080/"
        },
        "id": "j9-xTfJczV0y",
        "outputId": "e6c13e47-c788-4889-a0a6-56a16794edfb"
      },
      "outputs": [
        {
          "name": "stdout",
          "output_type": "stream",
          "text": [
            "Cleaned and transformed dataset has been exported to 'cleaned_transformed_data.csv'.\n"
          ]
        }
      ],
      "source": [
        "sorted_df.to_csv('cleaned_transformed_data.csv', index=False)\n",
        "\n",
        "print(\"Cleaned and transformed dataset has been exported to 'cleaned_transformed_data.csv'.\")\n"
      ]
    }
  ],
  "metadata": {
    "colab": {
      "provenance": []
    },
    "kernelspec": {
      "display_name": "Python 3",
      "language": "python",
      "name": "python3"
    },
    "language_info": {
      "codemirror_mode": {
        "name": "ipython",
        "version": 3
      },
      "file_extension": ".py",
      "mimetype": "text/x-python",
      "name": "python",
      "nbconvert_exporter": "python",
      "pygments_lexer": "ipython3",
      "version": "3.11.6"
    }
  },
  "nbformat": 4,
  "nbformat_minor": 0
}

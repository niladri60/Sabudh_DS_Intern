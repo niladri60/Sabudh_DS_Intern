{
  "cells": [
    {
      "cell_type": "markdown",
      "metadata": {},
      "source": [
        "# Task1: Creating a Class (Abstraction)\n",
        "\n",
        "Create an abstract Python class called Person that has the following attributes:\n",
        "\n",
        "- Name\n",
        "- Age\n",
        "- Gender\n",
        "- Address\n",
        "\n",
        "The class should implement cooperative inheritance\n",
        "- Define the magic str method that returns the basic info about the person\n",
        "- Define a method greet that accepts an instance of the Person class and greets the person e.g., the output should look like Hello John! My name is Jane.\n",
        "- Define an abstract method introduce that must be implemented by the child classes\n",
        "- Define a static method is_adult that accepts an argument age that returns True or False if the person is above 18 years old.\n"
      ]
    },
    {
      "cell_type": "code",
      "execution_count": 4,
      "metadata": {},
      "outputs": [],
      "source": [
        "from abc import ABC, abstractmethod\n",
        "\n",
        "class Person(ABC):\n",
        "    def __init__(self, name, age, gender, address):\n",
        "        self.name = name\n",
        "        self.age = age\n",
        "        self.gender = gender\n",
        "        self.address = address\n",
        "    \n",
        "    def __str__(self):\n",
        "        return f\"Name: {self.name}, Age: {self.age}, Gender: {self.gender}, Address: {self.address}\"\n",
        "    \n",
        "    def greet(self, other_person):\n",
        "        return f\"Hello {other_person.name}! My name is {self.name}.\"\n",
        "    \n",
        "    @abstractmethod\n",
        "    def introduce(self):\n",
        "        pass\n",
        "    \n",
        "    @staticmethod\n",
        "    def is_adult(age):\n",
        "        return age >= 18\n"
      ]
    },
    {
      "cell_type": "markdown",
      "metadata": {},
      "source": [
        "## Example Child Class Implementation"
      ]
    },
    {
      "cell_type": "code",
      "execution_count": 5,
      "metadata": {},
      "outputs": [],
      "source": [
        "class Student(Person):\n",
        "    def introduce(self):\n",
        "        return f\"Hi, I'm {self.name}, a student living in {self.address}.\"\n"
      ]
    },
    {
      "cell_type": "markdown",
      "metadata": {},
      "source": [
        "## Testing the Classes"
      ]
    },
    {
      "cell_type": "code",
      "execution_count": 6,
      "metadata": {},
      "outputs": [
        {
          "name": "stdout",
          "output_type": "stream",
          "text": [
            "Name: Jane, Age: 20, Gender: Female, Address: 123 Main St\n",
            "Name: John, Age: 17, Gender: Male, Address: 456 Elm St\n",
            "Hello John! My name is Jane.\n",
            "Hi, I'm Jane, a student living in 123 Main St.\n",
            "True\n",
            "False\n"
          ]
        }
      ],
      "source": [
        "jane = Student(name=\"Jane\", age=20, gender=\"Female\", address=\"123 Main St\")\n",
        "john = Student(name=\"John\", age=17, gender=\"Male\", address=\"456 Elm St\")\n",
        "\n",
        "print(jane)\n",
        "print(john)\n",
        "\n",
        "print(jane.greet(john))\n",
        "print(jane.introduce())\n",
        "\n",
        "print(Person.is_adult(jane.age))\n",
        "print(Person.is_adult(john.age))\n"
      ]
    },
    {
      "cell_type": "markdown",
      "metadata": {},
      "source": [
        "# Task 2: Single Inheritance, Encapsulation\n",
        "\n",
        "Create a Python class called Employee that inherits from the Person class created in Problem 1. This class must also implement cooperative inheritance.\n",
        "\n",
        "The Employee class should have the following attributes:\n",
        "\n",
        "- Create a class attribute `counter` that will increase by one when a new instance of employee is initialized and decrease by one when an instance is deleted\n",
        "- A private attribute `employee_id` that holds the value according to the counter e.g., EMP01, EMP02. The private attribute must have only the getter method not setter, `employee_id` should not able to be changed once it is created\n",
        "- A protected `salary` attribute\n",
        "\n",
        "The class should have the following methods:\n",
        "\n",
        "- A constructor that initializes the attributes.\n",
        "- A method called `counter` wrapped in the `property` decorator that returns the class variable counter\n",
        "- Getter and setter methods for salary and also methods that increase and decrease the salary\n",
        "- An `introduce` method that overrides the abstract method defined in the Person class."
      ]
    },
    {
      "cell_type": "code",
      "execution_count": 13,
      "metadata": {},
      "outputs": [],
      "source": [
        "class Employee(Person):\n",
        "    # Define a class variable for counter, not a property\n",
        "    counter = 0\n",
        "\n",
        "    def __init__(self, name, age, gender, address, salary):\n",
        "        super().__init__(name, age, gender, address)\n",
        "        # Increment the class variable 'counter' and assign the new employee_id\n",
        "        Employee.counter += 1\n",
        "        self._employee_id = f\"EMP{Employee.counter:02d}\"\n",
        "        self._salary = salary\n",
        "\n",
        "    @property\n",
        "    def employee_id(self):\n",
        "        return self._employee_id\n",
        "\n",
        "    @property\n",
        "    def salary(self):\n",
        "        return self._salary\n",
        "\n",
        "    @salary.setter\n",
        "    def salary(self, value):\n",
        "        if value >= 0:\n",
        "            self._salary = value\n",
        "        else:\n",
        "            raise ValueError(\"Salary must be non-negative\")\n",
        "\n",
        "    def increase_salary(self, amount):\n",
        "        self._salary += amount\n",
        "\n",
        "    def decrease_salary(self, amount):\n",
        "        if self._salary - amount >= 0:\n",
        "            self._salary -= amount\n",
        "        else:\n",
        "            raise ValueError(\"Salary cannot be negative\")\n",
        "\n",
        "    def introduce(self):\n",
        "        return f\"Hi, I'm {self.name}, and I work at the office located in {self.address}. My employee ID is {self._employee_id}.\"\n",
        "\n",
        "    def __del__(self):\n",
        "        Employee.counter -= 1\n",
        "\n"
      ]
    },
    {
      "cell_type": "markdown",
      "metadata": {},
      "source": [
        "## Testing the Employee Class"
      ]
    },
    {
      "cell_type": "code",
      "execution_count": 14,
      "metadata": {},
      "outputs": [
        {
          "name": "stdout",
          "output_type": "stream",
          "text": [
            "Name: Jane, Age: 25, Gender: Female, Address: 123 Main St\n",
            "Employee ID: EMP01\n",
            "Salary: 50000\n",
            "Hi, I'm Jane, and I work at the office located in 123 Main St. My employee ID is EMP01.\n",
            "2\n",
            "Name: John, Age: 30, Gender: Male, Address: 456 Elm St\n",
            "Employee ID: EMP02\n",
            "Salary: 60000\n",
            "Hi, I'm John, and I work at the office located in 456 Elm St. My employee ID is EMP02.\n",
            "2\n",
            "Name: Jane, Age: 25, Gender: Female, Address: 123 Main St\n",
            "Employee ID: EMP01\n",
            "Updated Salary: 55000\n",
            "Name: John, Age: 30, Gender: Male, Address: 456 Elm St\n",
            "Employee ID: EMP02\n",
            "Updated Salary: 65000\n"
          ]
        }
      ],
      "source": [
        "jane = Employee(name=\"Jane\", age=25, gender=\"Female\", address=\"123 Main St\", salary=50000)\n",
        "john = Employee(name=\"John\", age=30, gender=\"Male\", address=\"456 Elm St\", salary=60000)\n",
        "\n",
        "print(jane)\n",
        "print(f\"Employee ID: {jane.employee_id}\")\n",
        "print(f\"Salary: {jane.salary}\")\n",
        "print(jane.introduce())\n",
        "print(jane.counter)\n",
        "\n",
        "print(john)\n",
        "print(f\"Employee ID: {john.employee_id}\")\n",
        "print(f\"Salary: {john.salary}\")\n",
        "print(john.introduce())\n",
        "print(john.counter)\n",
        "\n",
        "# Update salary\n",
        "jane.increase_salary(5000)\n",
        "john.increase_salary(5000)\n",
        "\n",
        "print(jane)\n",
        "print(f\"Employee ID: {jane.employee_id}\")\n",
        "print(f\"Updated Salary: {jane.salary}\")\n",
        "\n",
        "print(john)\n",
        "print(f\"Employee ID: {john.employee_id}\")\n",
        "print(f\"Updated Salary: {john.salary}\")\n"
      ]
    },
    {
      "cell_type": "markdown",
      "metadata": {},
      "source": [
        "# Task 3: Multiple Inheritance, Polymorphism\n",
        "\n",
        "Create a Python class called Teacher that inherits from the Employee, Person classes created\n",
        "\n",
        "in Problem 1 and 2. This class must also implement cooperative inheritance\n",
        "\n",
        " \n",
        "\n",
        "The Teacher class should have the following attributes:\n",
        "\n",
        "- Create a class attribute counter that will increase by one when a new instance of\n",
        "employee is initialized and decrease by one when an instance is deleted a private attribute teacher_id that holds the value according to counter e.g., TEC01, TEC02. The private attribute must have only the getter method not setter, teacher_id should not able to be changed once it is created.\n",
        "\n",
        "- A subjects attribute is a list of subjects.\n",
        " \n",
        "The class should have the following methods:\n",
        "\n",
        "- A constructor that initializes the attributes.\n",
        "- A method called counter wrapped in the property decorator that returns the class variable counter methods that appends or removes a particular subject from the subjects list.\n",
        "An introduce method that overrides the abstract method defined in the Person class\n",
        "that should return teacher_id and the list of subjects.\n",
        "\n",
        "Since we have an attribute named teacher_id, we won’t need employee_id, override the employee_id that now returns an AttributeError if someone tries to access the attribute employee_id. E.g.Teacher object has no attribute employee id.\n",
        " \n",
        "\n",
        "Note: the class name Teacher must not be hardcoded. It should be dependent on the class name so that if a new child class inherits from the Teacher class, it should not again say Teacher."
      ]
    },
    {
      "cell_type": "code",
      "execution_count": 17,
      "metadata": {},
      "outputs": [],
      "source": [
        "class Teacher(Employee, Person):\n",
        "    # Class attribute counter\n",
        "    _counter = 0\n",
        "\n",
        "    def __init__(self, name, age, gender, address, salary, subjects=None):\n",
        "        super().__init__(name, age, gender, address, salary)\n",
        "        # Increment the counter when a new instance is created\n",
        "        Teacher._counter += 1\n",
        "        self._teacher_id = f\"TEC{Teacher._counter:02d}\"\n",
        "        self._subjects = subjects if subjects is not None else []\n",
        "\n",
        "    @property\n",
        "    def teacher_id(self):\n",
        "        \"\"\"Getter for the teacher_id attribute\"\"\"\n",
        "        return self._teacher_id\n",
        "\n",
        "    @property\n",
        "    def counter(self):\n",
        "        \"\"\"Property method that returns the current value of the counter\"\"\"\n",
        "        return Teacher._counter\n",
        "\n",
        "    def add_subject(self, subject):\n",
        "        \"\"\"Adds a subject to the subjects list\"\"\"\n",
        "        if subject not in self._subjects:\n",
        "            self._subjects.append(subject)\n",
        "\n",
        "    def remove_subject(self, subject):\n",
        "        \"\"\"Removes a subject from the subjects list\"\"\"\n",
        "        if subject in self._subjects:\n",
        "            self._subjects.remove(subject)\n",
        "\n",
        "    def introduce(self):\n",
        "        \"\"\"Overrides the introduce method from Person to include teacher ID and subjects\"\"\"\n",
        "        return (f\"Hi, I'm {self.name}, and I am a teacher at the office located in {self.address}.\"\n",
        "                f\" My teacher ID is {self._teacher_id} and I teach the following subjects: \"\n",
        "                f\"{', '.join(self._subjects)}.\")\n",
        "\n",
        "    @property\n",
        "    def employee_id(self):\n",
        "        \"\"\"Raises an AttributeError since Teacher does not use employee_id\"\"\"\n",
        "        raise AttributeError(f\"{self.__class__.__name__} object has no attribute employee_id\")\n",
        "\n",
        "    def __del__(self):\n",
        "        \"\"\"Decrement the counter when an instance is deleted\"\"\"\n",
        "        Teacher._counter -= 1\n",
        "\n"
      ]
    },
    {
      "cell_type": "code",
      "execution_count": 18,
      "metadata": {},
      "outputs": [
        {
          "name": "stdout",
          "output_type": "stream",
          "text": [
            "Hi, I'm Alice, and I am a teacher at the office located in 789 Pine St. My teacher ID is TEC01 and I teach the following subjects: Math, Physics.\n",
            "Teacher ID: TEC01\n",
            "Subjects: ['Math', 'Physics']\n",
            "Updated Subjects: ['Physics', 'Chemistry']\n",
            "Teacher object has no attribute employee_id\n",
            "Current Teacher Count: <property object at 0x000001F093AFA610>\n"
          ]
        }
      ],
      "source": [
        "# Creating instances of the Teacher class\n",
        "teacher1 = Teacher(name=\"Alice\", age=35, gender=\"Female\", address=\"789 Pine St\", salary=70000, subjects=[\"Math\", \"Physics\"])\n",
        "teacher2 = Teacher(name=\"Bob\", age=40, gender=\"Male\", address=\"101 Oak St\", salary=75000, subjects=[\"English\", \"History\"])\n",
        "\n",
        "# Accessing attributes and methods\n",
        "print(teacher1.introduce())\n",
        "print(f\"Teacher ID: {teacher1.teacher_id}\")\n",
        "print(f\"Subjects: {teacher1._subjects}\")\n",
        "teacher1.add_subject(\"Chemistry\")\n",
        "teacher1.remove_subject(\"Math\")\n",
        "print(f\"Updated Subjects: {teacher1._subjects}\")\n",
        "\n",
        "# Testing attribute access and error handling\n",
        "try:\n",
        "    print(teacher1.employee_id)\n",
        "except AttributeError as e:\n",
        "    print(e)\n",
        "\n",
        "print(f\"Current Teacher Count: {Teacher.counter}\")\n"
      ]
    }
  ],
  "metadata": {
    "kernelspec": {
      "display_name": "Python 3",
      "name": "python3"
    },
    "language_info": {
      "name": "python",
      "version": "3.11.6"
    }
  },
  "nbformat": 4,
  "nbformat_minor": 0
}

{
 "cells": [
  {
   "cell_type": "code",
   "execution_count": 1,
   "metadata": {},
   "outputs": [],
   "source": [
    "def trap_rain_water(arr):\n",
    "    n = len(arr)\n",
    "    if n == 0:\n",
    "        return 0\n",
    "\n",
    "    left_max = [0] * n\n",
    "    right_max = [0] * n\n",
    "\n",
    "    left_max[0] = arr[0]\n",
    "    for i in range(1, n):\n",
    "        left_max[i] = max(left_max[i - 1], arr[i])\n",
    "\n",
    "    right_max[n - 1] = arr[n - 1]\n",
    "    for i in range(n - 2, -1, -1):\n",
    "        right_max[i] = max(right_max[i + 1], arr[i])\n",
    "\n",
    "    trapped_water = 0\n",
    "    for i in range(n):\n",
    "        trapped_water += min(left_max[i], right_max[i]) - arr[i]\n",
    "\n",
    "    return trapped_water\n"
   ]
  },
  {
   "cell_type": "code",
   "execution_count": 2,
   "metadata": {},
   "outputs": [
    {
     "data": {
      "text/plain": [
       "2"
      ]
     },
     "execution_count": 2,
     "metadata": {},
     "output_type": "execute_result"
    }
   ],
   "source": [
    "arr1 = [0, 2, 0, 2, 0]\n",
    "trap_rain_water(arr1)"
   ]
  },
  {
   "cell_type": "code",
   "execution_count": 3,
   "metadata": {},
   "outputs": [
    {
     "data": {
      "text/plain": [
       "6"
      ]
     },
     "execution_count": 3,
     "metadata": {},
     "output_type": "execute_result"
    }
   ],
   "source": [
    "arr2 = [0, 1, 0, 2, 1, 0, 1, 3, 2, 1, 2, 1, 0]\n",
    "trap_rain_water(arr2)\n"
   ]
  }
 ],
 "metadata": {
  "kernelspec": {
   "display_name": "Python 3",
   "language": "python",
   "name": "python3"
  },
  "language_info": {
   "codemirror_mode": {
    "name": "ipython",
    "version": 3
   },
   "file_extension": ".py",
   "mimetype": "text/x-python",
   "name": "python",
   "nbconvert_exporter": "python",
   "pygments_lexer": "ipython3",
   "version": "3.12.4"
  }
 },
 "nbformat": 4,
 "nbformat_minor": 2
}

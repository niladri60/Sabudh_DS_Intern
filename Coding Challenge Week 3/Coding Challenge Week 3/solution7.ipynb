{
 "cells": [
  {
   "cell_type": "code",
   "execution_count": 1,
   "metadata": {},
   "outputs": [],
   "source": [
    "from bisect import bisect_left\n",
    "from math import ceil\n",
    "\n",
    "def successfulPairs(spells, potions, success):\n",
    "    # Sort the potions array\n",
    "    potions.sort()\n",
    "    result = []\n",
    "    \n",
    "    for spell in spells:\n",
    "        # Calculate the minimum required potion strength\n",
    "        min_required_potion = (success + spell - 1) // spell  # This is ceil(success / spell)\n",
    "        \n",
    "        # Use binary search to find the first potion >= min_required_potion\n",
    "        index = bisect_left(potions, min_required_potion)\n",
    "        \n",
    "        # Count how many potions are >= min_required_potion\n",
    "        count = len(potions) - index\n",
    "        result.append(count)\n",
    "    \n",
    "    return result"
   ]
  },
  {
   "cell_type": "code",
   "execution_count": 2,
   "metadata": {},
   "outputs": [
    {
     "name": "stdout",
     "output_type": "stream",
     "text": [
      "[4, 0, 3]\n"
     ]
    }
   ],
   "source": [
    "spells1 = [5, 1, 3]\n",
    "potions1 = [1, 2, 3, 4, 5]\n",
    "success1 = 7\n",
    "print(successfulPairs(spells1, potions1, success1))"
   ]
  },
  {
   "cell_type": "code",
   "execution_count": 3,
   "metadata": {},
   "outputs": [
    {
     "name": "stdout",
     "output_type": "stream",
     "text": [
      "[2, 0, 2]\n"
     ]
    }
   ],
   "source": [
    "spells2 = [3, 1, 2]\n",
    "potions2 = [8, 5, 8]\n",
    "success2 = 16\n",
    "print(successfulPairs(spells2, potions2, success2))"
   ]
  }
 ],
 "metadata": {
  "kernelspec": {
   "display_name": "Python 3",
   "language": "python",
   "name": "python3"
  },
  "language_info": {
   "codemirror_mode": {
    "name": "ipython",
    "version": 3
   },
   "file_extension": ".py",
   "mimetype": "text/x-python",
   "name": "python",
   "nbconvert_exporter": "python",
   "pygments_lexer": "ipython3",
   "version": "3.12.4"
  }
 },
 "nbformat": 4,
 "nbformat_minor": 2
}

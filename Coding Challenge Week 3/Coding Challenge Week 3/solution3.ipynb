{
 "cells": [
  {
   "cell_type": "code",
   "execution_count": 1,
   "metadata": {},
   "outputs": [],
   "source": [
    "def find_median_sorted_arrays(a, b):\n",
    "    merged = sorted(a + b)\n",
    "    mid = len(merged) // 2\n",
    "    if len(merged) % 2 == 0:\n",
    "        return (merged[mid - 1] + merged[mid]) / 2\n",
    "    else:\n",
    "        return merged[mid]\n"
   ]
  },
  {
   "cell_type": "code",
   "execution_count": 2,
   "metadata": {},
   "outputs": [
    {
     "data": {
      "text/plain": [
       "3"
      ]
     },
     "execution_count": 2,
     "metadata": {},
     "output_type": "execute_result"
    }
   ],
   "source": [
    "a1 = [-5, 3, 6, 12, 15]\n",
    "b1 = [-12, -10, -6, -3, 4, 10]\n",
    "\n",
    "find_median_sorted_arrays(a1, b1)\n"
   ]
  },
  {
   "cell_type": "code",
   "execution_count": 3,
   "metadata": {},
   "outputs": [
    {
     "data": {
      "text/plain": [
       "11.0"
      ]
     },
     "execution_count": 3,
     "metadata": {},
     "output_type": "execute_result"
    }
   ],
   "source": [
    "a2 = [2, 3, 5, 8]\n",
    "b2 = [10, 12, 14, 16, 18, 20]\n",
    "\n",
    "find_median_sorted_arrays(a2, b2)"
   ]
  }
 ],
 "metadata": {
  "kernelspec": {
   "display_name": "Python 3",
   "language": "python",
   "name": "python3"
  },
  "language_info": {
   "codemirror_mode": {
    "name": "ipython",
    "version": 3
   },
   "file_extension": ".py",
   "mimetype": "text/x-python",
   "name": "python",
   "nbconvert_exporter": "python",
   "pygments_lexer": "ipython3",
   "version": "3.12.4"
  }
 },
 "nbformat": 4,
 "nbformat_minor": 2
}

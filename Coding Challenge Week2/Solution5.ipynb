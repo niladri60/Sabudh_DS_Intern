{
 "cells": [
  {
   "cell_type": "code",
   "execution_count": 5,
   "metadata": {},
   "outputs": [],
   "source": [
    "def int_to_roman(num):\n",
    "    value_map = [\n",
    "        (1000, 'M'),\n",
    "        (900, 'CM'),\n",
    "        (500, 'D'),\n",
    "        (400, 'CD'),\n",
    "        (100, 'C'),\n",
    "        (90, 'XC'),\n",
    "        (50, 'L'),\n",
    "        (40, 'XL'),\n",
    "        (10, 'X'),\n",
    "        (9, 'IX'),\n",
    "        (5, 'V'),\n",
    "        (4, 'IV'),\n",
    "        (1, 'I')\n",
    "    ]\n",
    "    result = []\n",
    "    for value, symbol in value_map:\n",
    "        while num >= value:\n",
    "            result.append(symbol)\n",
    "            num -= value\n",
    "    return ''.join(result)"
   ]
  },
  {
   "cell_type": "markdown",
   "metadata": {},
   "source": [
    "Test Cases"
   ]
  },
  {
   "cell_type": "code",
   "execution_count": 2,
   "metadata": {},
   "outputs": [
    {
     "name": "stdout",
     "output_type": "stream",
     "text": [
      "MMMDCCXLIX\n"
     ]
    }
   ],
   "source": [
    "num1 = 3749\n",
    "output1 = int_to_roman(num1)\n",
    "print(output1)"
   ]
  },
  {
   "cell_type": "code",
   "execution_count": 3,
   "metadata": {},
   "outputs": [
    {
     "name": "stdout",
     "output_type": "stream",
     "text": [
      "LVIII\n"
     ]
    }
   ],
   "source": [
    "num2 = 58\n",
    "output2 = int_to_roman(num2)\n",
    "print(output2)"
   ]
  },
  {
   "cell_type": "code",
   "execution_count": 4,
   "metadata": {},
   "outputs": [
    {
     "name": "stdout",
     "output_type": "stream",
     "text": [
      "MCMXCIV\n"
     ]
    }
   ],
   "source": [
    "num3 = 1994\n",
    "output3 = int_to_roman(num3)\n",
    "print(output3)"
   ]
  }
 ],
 "metadata": {
  "kernelspec": {
   "display_name": "Python 3",
   "language": "python",
   "name": "python3"
  },
  "language_info": {
   "codemirror_mode": {
    "name": "ipython",
    "version": 3
   },
   "file_extension": ".py",
   "mimetype": "text/x-python",
   "name": "python",
   "nbconvert_exporter": "python",
   "pygments_lexer": "ipython3",
   "version": "3.12.4"
  }
 },
 "nbformat": 4,
 "nbformat_minor": 2
}

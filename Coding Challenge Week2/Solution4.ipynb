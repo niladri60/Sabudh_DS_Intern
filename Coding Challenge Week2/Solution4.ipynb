{
 "cells": [
  {
   "cell_type": "markdown",
   "metadata": {},
   "source": [
    "Given an array of N integers where each value represents the number of chocolates in a packet. Each packet can have a variable number of chocolates. There are m students, the task is to distribute chocolate packets such that:\n",
    "Each student gets one packet.\n",
    "The difference between the number of chocolates in the packet with maximum chocolates and the packet with minimum chocolates given to the students is Minimum."
   ]
  },
  {
   "cell_type": "code",
   "execution_count": 6,
   "metadata": {},
   "outputs": [],
   "source": [
    "def find_min_difference(arr, m):\n",
    "    if m > len(arr):\n",
    "        return -1\n",
    "    arr.sort()\n",
    "    min_diff = float('inf')\n",
    "    for i in range(len(arr) - m + 1):\n",
    "        current_diff = arr[i + m - 1] - arr[i]\n",
    "        min_diff = min(min_diff, current_diff)\n",
    "    return min_diff"
   ]
  },
  {
   "cell_type": "markdown",
   "metadata": {},
   "source": [
    "Test Cases"
   ]
  },
  {
   "cell_type": "code",
   "execution_count": 5,
   "metadata": {},
   "outputs": [
    {
     "name": "stdout",
     "output_type": "stream",
     "text": [
      "Minimum Difference is 2\n"
     ]
    }
   ],
   "source": [
    "arr1 = [7, 3, 2, 4, 9, 12, 56]\n",
    "m1 = 3\n",
    "output1 = find_min_difference(arr1, m1)\n",
    "print(\"Minimum Difference is\",output1)"
   ]
  },
  {
   "cell_type": "code",
   "execution_count": 4,
   "metadata": {},
   "outputs": [
    {
     "name": "stdout",
     "output_type": "stream",
     "text": [
      "Minimum Difference is 6\n"
     ]
    }
   ],
   "source": [
    "arr2 = [3, 4, 1, 9, 56, 7, 9, 12]\n",
    "m2 = 5\n",
    "output2 = find_min_difference(arr2, m2)\n",
    "print(\"Minimum Difference is\", output2)"
   ]
  }
 ],
 "metadata": {
  "kernelspec": {
   "display_name": "Python 3",
   "language": "python",
   "name": "python3"
  },
  "language_info": {
   "codemirror_mode": {
    "name": "ipython",
    "version": 3
   },
   "file_extension": ".py",
   "mimetype": "text/x-python",
   "name": "python",
   "nbconvert_exporter": "python",
   "pygments_lexer": "ipython3",
   "version": "3.12.4"
  }
 },
 "nbformat": 4,
 "nbformat_minor": 2
}

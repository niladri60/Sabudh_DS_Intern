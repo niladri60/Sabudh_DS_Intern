{
 "cells": [
  {
   "cell_type": "markdown",
   "metadata": {},
   "source": [
    "Given an array of positive and negative numbers, arrange them such that all negative integers appear before all the positive integers in the array without using any additional data structure like a hash table, arrays, etc. The order of appearance should be maintained."
   ]
  },
  {
   "cell_type": "code",
   "execution_count": 12,
   "metadata": {},
   "outputs": [],
   "source": [
    "def rearrange_array(arr):\n",
    "    negatives = [x for x in arr if x < 0]\n",
    "    positives = [x for x in arr if x >= 0]\n",
    "    return negatives + positives"
   ]
  },
  {
   "cell_type": "markdown",
   "metadata": {},
   "source": [
    "Test Cases"
   ]
  },
  {
   "cell_type": "code",
   "execution_count": 10,
   "metadata": {},
   "outputs": [
    {
     "name": "stdout",
     "output_type": "stream",
     "text": [
      "[-12, -13, -5, -7, -3, -6, 11, 6, 5]\n"
     ]
    }
   ],
   "source": [
    "arr1 = [-12, 11, -13, -5, 6, -7, 5, -3, -6]\n",
    "output1 = rearrange_array(arr1)\n",
    "print(output1)\n"
   ]
  },
  {
   "cell_type": "code",
   "execution_count": 9,
   "metadata": {},
   "outputs": [
    {
     "name": "stdout",
     "output_type": "stream",
     "text": [
      "[-12, -5, -7, -3, 11, 13, 6, 5, 8]\n"
     ]
    }
   ],
   "source": [
    "arr2 = [-12, 11, 13, -5, 6, -7, 5, -3, 8]\n",
    "output2 = rearrange_array(arr2)\n",
    "print(output2)\n"
   ]
  }
 ],
 "metadata": {
  "kernelspec": {
   "display_name": "Python 3",
   "language": "python",
   "name": "python3"
  },
  "language_info": {
   "codemirror_mode": {
    "name": "ipython",
    "version": 3
   },
   "file_extension": ".py",
   "mimetype": "text/x-python",
   "name": "python",
   "nbconvert_exporter": "python",
   "pygments_lexer": "ipython3",
   "version": "3.12.4"
  }
 },
 "nbformat": 4,
 "nbformat_minor": 2
}

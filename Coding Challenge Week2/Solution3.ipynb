{
 "cells": [
  {
   "cell_type": "markdown",
   "metadata": {},
   "source": [
    "Given an array of N integers and a number K, the task is to find the number of pairs of integers in the array whose sum is equal to K."
   ]
  },
  {
   "cell_type": "code",
   "execution_count": 4,
   "metadata": {},
   "outputs": [],
   "source": [
    "def count_pairs_with_sum(arr, K):\n",
    "    count = 0\n",
    "    seen = {}\n",
    "    for num in arr:\n",
    "        complement = K - num\n",
    "        if complement in seen:\n",
    "            count += seen[complement]\n",
    "        if num in seen:\n",
    "            seen[num] += 1\n",
    "        else:\n",
    "            seen[num] = 1\n",
    "    return count"
   ]
  },
  {
   "cell_type": "markdown",
   "metadata": {},
   "source": [
    "Test Cases"
   ]
  },
  {
   "cell_type": "code",
   "execution_count": 2,
   "metadata": {},
   "outputs": [
    {
     "name": "stdout",
     "output_type": "stream",
     "text": [
      "2\n"
     ]
    }
   ],
   "source": [
    "arr1 = [1, 5, 7, -1]\n",
    "K1 = 6\n",
    "output1 = count_pairs_with_sum(arr1, K1)\n",
    "print(output1)"
   ]
  },
  {
   "cell_type": "code",
   "execution_count": 3,
   "metadata": {},
   "outputs": [
    {
     "name": "stdout",
     "output_type": "stream",
     "text": [
      "3\n"
     ]
    }
   ],
   "source": [
    "arr2 = [1, 5, 7, -1, 5]\n",
    "K2 = 6\n",
    "output2 = count_pairs_with_sum(arr2, K2)\n",
    "print(output2)"
   ]
  }
 ],
 "metadata": {
  "kernelspec": {
   "display_name": "Python 3",
   "language": "python",
   "name": "python3"
  },
  "language_info": {
   "codemirror_mode": {
    "name": "ipython",
    "version": 3
   },
   "file_extension": ".py",
   "mimetype": "text/x-python",
   "name": "python",
   "nbconvert_exporter": "python",
   "pygments_lexer": "ipython3",
   "version": "3.12.4"
  }
 },
 "nbformat": 4,
 "nbformat_minor": 2
}
